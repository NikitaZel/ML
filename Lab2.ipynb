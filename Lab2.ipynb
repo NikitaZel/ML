{
 "cells": [
  {
   "cell_type": "markdown",
   "id": "575844b9",
   "metadata": {},
   "source": [
    "# Прогнозирование: Покупки страховки на транспорт клиентом"
   ]
  },
  {
   "cell_type": "markdown",
   "id": "7290ac72",
   "metadata": {},
   "source": [
    "## Чтение данных"
   ]
  },
  {
   "cell_type": "code",
   "execution_count": 33,
   "id": "441349b8",
   "metadata": {},
   "outputs": [],
   "source": [
    "import pandas as pd\n",
    "import matplotlib.pyplot as plt\n",
    "%matplotlib inline \n",
    "import numpy as np          \n",
    "import seaborn as sns         \n",
    "import sklearn      \n",
    "\n",
    "train_dataset = []\n",
    "test_dataset = []\n",
    "dataset = []\n",
    "\n",
    "dataset = pd.read_csv(\"insurance/aug_train.csv\", sep=',', encoding=\"Windows-1252\")"
   ]
  },
  {
   "cell_type": "code",
   "execution_count": 34,
   "id": "2b52608d",
   "metadata": {},
   "outputs": [],
   "source": [
    "import warnings\n",
    "warnings.filterwarnings(\"ignore\")"
   ]
  },
  {
   "cell_type": "code",
   "execution_count": 35,
   "id": "9483da4d",
   "metadata": {},
   "outputs": [],
   "source": [
    "categorical_ind = list(range(5,8)) + [1] + [3] + [11]\n",
    "dataset.iloc[:,categorical_ind]=dataset.iloc[:,categorical_ind].astype('category')\n",
    "categorical_columns = [c for c in dataset.columns if dataset[c].dtype.name == 'category']\n",
    "numerical_columns   = [c for c in dataset.columns if dataset[c].dtype.name != 'category']\n",
    "\n",
    "data_describe = dataset.describe(include = ['category'])\n",
    "binary_columns    = [c for c in categorical_columns if data_describe[c]['unique'] == 2]\n",
    "nonbinary_columns = [c for c in categorical_columns if data_describe[c]['unique'] > 2]\n",
    "\n",
    "data_nonbinary = pd.get_dummies(dataset[nonbinary_columns])\n",
    "\n",
    "for col_num in binary_columns:\n",
    "    dataset[col_num] = dataset[col_num].astype(object)\n",
    "\n",
    "dataset.at[dataset['Gender'] == 'Male', 'Gender'] = 0\n",
    "dataset.at[dataset['Gender'] == 'Female', 'Gender'] = 1\n",
    "\n",
    "dataset.at[dataset['Vehicle_Damage'] == 'No', 'Vehicle_Damage'] = 0\n",
    "dataset.at[dataset['Vehicle_Damage'] == 'Yes', 'Vehicle_Damage'] = 1\n",
    "\n",
    "for col_num in binary_columns:\n",
    "    dataset[col_num] = dataset[col_num].astype('category')\n",
    "    \n",
    "data_numerical = dataset[numerical_columns]\n",
    "data_numerical = (data_numerical - data_numerical.mean(axis = 0))/data_numerical.std(axis = 0)"
   ]
  },
  {
   "cell_type": "code",
   "execution_count": 36,
   "id": "67d26203",
   "metadata": {},
   "outputs": [],
   "source": [
    "data = pd.concat((data_numerical, data_nonbinary, dataset[binary_columns]), axis = 1)"
   ]
  },
  {
   "cell_type": "code",
   "execution_count": 37,
   "id": "51dca30b",
   "metadata": {},
   "outputs": [],
   "source": [
    "X = data.drop('Response', axis = 1)\n",
    "y = data['Response']"
   ]
  },
  {
   "cell_type": "code",
   "execution_count": 79,
   "id": "1690260c",
   "metadata": {},
   "outputs": [
    {
     "data": {
      "text/plain": [
       "0         0\n",
       "1         0\n",
       "2         0\n",
       "3         0\n",
       "4         0\n",
       "         ..\n",
       "382149    0\n",
       "382150    0\n",
       "382151    0\n",
       "382152    0\n",
       "382153    0\n",
       "Name: Response, Length: 382154, dtype: category\n",
       "Categories (2, int64): [0, 1]"
      ]
     },
     "execution_count": 79,
     "metadata": {},
     "output_type": "execute_result"
    }
   ],
   "source": [
    "y"
   ]
  },
  {
   "cell_type": "markdown",
   "id": "b68adf96",
   "metadata": {},
   "source": [
    "## Разбиваем данные на тренировочную и тестовую выборку"
   ]
  },
  {
   "cell_type": "code",
   "execution_count": 38,
   "id": "aa2e2b30",
   "metadata": {},
   "outputs": [
    {
     "data": {
      "text/plain": [
       "(286615, 95539)"
      ]
     },
     "execution_count": 38,
     "metadata": {},
     "output_type": "execute_result"
    }
   ],
   "source": [
    "from sklearn.model_selection import train_test_split\n",
    "X_train, X_test, y_train, y_test = train_test_split(X, y, test_size = 0.25, random_state = 42)\n",
    "\n",
    "N_train, _ = X_train.shape \n",
    "N_test,  _ = X_test.shape \n",
    "\n",
    "N_train, N_test"
   ]
  },
  {
   "cell_type": "markdown",
   "id": "7b8e80c3",
   "metadata": {},
   "source": [
    "## Обучение классификатора"
   ]
  },
  {
   "cell_type": "code",
   "execution_count": 39,
   "id": "752b6a74",
   "metadata": {},
   "outputs": [],
   "source": [
    "from sklearn.neural_network import MLPClassifier"
   ]
  },
  {
   "cell_type": "code",
   "execution_count": 41,
   "id": "8f3f65a9",
   "metadata": {},
   "outputs": [
    {
     "data": {
      "text/plain": [
       "MLPClassifier(activation='logistic', hidden_layer_sizes=(2,), max_iter=2000,\n",
       "              random_state=42, solver='lbfgs')"
      ]
     },
     "execution_count": 41,
     "metadata": {},
     "output_type": "execute_result"
    }
   ],
   "source": [
    "mlp_model = MLPClassifier(hidden_layer_sizes = (2,),\n",
    "                          solver = 'lbfgs', \n",
    "                          activation = 'logistic',\n",
    "                          random_state = 42,\n",
    "                         max_iter=2000)\n",
    "mlp_model.fit(X_train, y_train)"
   ]
  },
  {
   "cell_type": "code",
   "execution_count": 42,
   "id": "a0ac266d",
   "metadata": {},
   "outputs": [],
   "source": [
    "y_train_pred = mlp_model.predict(X_train)\n",
    "y_test_pred = mlp_model.predict(X_test)"
   ]
  },
  {
   "cell_type": "markdown",
   "id": "b37598d1",
   "metadata": {},
   "source": [
    "Ошибка на обучаеющей и тестовой выборках"
   ]
  },
  {
   "cell_type": "code",
   "execution_count": 43,
   "id": "de258c83",
   "metadata": {},
   "outputs": [
    {
     "name": "stdout",
     "output_type": "stream",
     "text": [
      "Ошибка на обучающей выборке:  0.10202187603579715\n",
      "Ошибка на тестовой выборке:  0.10239797360240321\n"
     ]
    }
   ],
   "source": [
    "err_train = np.mean(y_train != y_train_pred)\n",
    "err_test = np.mean(y_test != y_test_pred)\n",
    "print('Ошибка на обучающей выборке: ', err_train)\n",
    "print('Ошибка на тестовой выборке: ', err_test)"
   ]
  },
  {
   "cell_type": "markdown",
   "id": "3aba9155",
   "metadata": {},
   "source": [
    "## Зависимость ошибки от параметра alpha"
   ]
  },
  {
   "cell_type": "code",
   "execution_count": 45,
   "id": "6f38c85a",
   "metadata": {},
   "outputs": [],
   "source": [
    "from sklearn.metrics import accuracy_score\n",
    "alpha_arr = np.logspace(-2, 19, 21)\n",
    "err_train = []\n",
    "err_test = []\n",
    "train_acc = []\n",
    "test_acc = []\n",
    "\n",
    "for alpha in alpha_arr:\n",
    "    mlp_model = MLPClassifier(hidden_layer_sizes = (2,),\n",
    "                          solver = 'lbfgs', \n",
    "                          activation = 'logistic',\n",
    "                          random_state = 42,\n",
    "                          max_iter=2000,\n",
    "                          alpha = alpha)\n",
    "    mlp_model.fit(X_train, y_train)\n",
    "    y_train_pred = mlp_model.predict(X_train)\n",
    "    y_test_pred = mlp_model.predict(X_test)\n",
    "    err_train.append(np.mean(y_train != y_train_pred))\n",
    "    err_test.append(np.mean(y_test != y_test_pred))\n",
    "    train_acc.append(accuracy_score(y_train, y_train_pred))\n",
    "    test_acc.append(accuracy_score(y_test, y_test_pred))\n"
   ]
  },
  {
   "cell_type": "code",
   "execution_count": 53,
   "id": "90ffaedd",
   "metadata": {},
   "outputs": [
    {
     "data": {
      "text/plain": [
       "<matplotlib.legend.Legend at 0x1d71af1f130>"
      ]
     },
     "execution_count": 53,
     "metadata": {},
     "output_type": "execute_result"
    },
    {
     "data": {
      "image/png": "[encoded data removed]",
      "text/plain": [
       "<Figure size 432x288 with 1 Axes>"
      ]
     },
     "metadata": {
      "needs_background": "light"
     },
     "output_type": "display_data"
    }
   ],
   "source": [
    "plt.semilogx(alpha_arr, train_acc, 'r-o', label = 'train')\n",
    "plt.semilogx(alpha_arr, test_acc, 'b-o', label = 'test')\n",
    "plt.xlim([np.min(alpha_arr), np.max(alpha_arr)])\n",
    "plt.title('Accuracy(alpha)')\n",
    "plt.xlabel('alpha')\n",
    "plt.ylabel('Accuracy')\n",
    "plt.legend()"
   ]
  },
  {
   "cell_type": "code",
   "execution_count": 52,
   "id": "c9b70f06",
   "metadata": {},
   "outputs": [
    {
     "data": {
      "text/plain": [
       "<matplotlib.legend.Legend at 0x1d71ecffc40>"
      ]
     },
     "execution_count": 52,
     "metadata": {},
     "output_type": "execute_result"
    },
    {
     "data": {
      "image/png": "[encoded data removed]",
      "text/plain": [
       "<Figure size 432x288 with 1 Axes>"
      ]
     },
     "metadata": {
      "needs_background": "light"
     },
     "output_type": "display_data"
    }
   ],
   "source": [
    "plt.semilogx(alpha_arr, err_train, 'r-o', label = 'train')\n",
    "plt.semilogx(alpha_arr, err_test, 'b-o', label = 'test')\n",
    "plt.xlim([np.min(alpha_arr), np.max(alpha_arr)])\n",
    "plt.title('Error(alpha)')\n",
    "plt.xlabel('alpha')\n",
    "plt.ylabel('error')\n",
    "plt.legend()"
   ]
  },
  {
   "cell_type": "code",
   "execution_count": 54,
   "id": "0fdecadf",
   "metadata": {},
   "outputs": [
    {
     "name": "stdout",
     "output_type": "stream",
     "text": [
      "0.1019625630200792 0.10241890746187421\n"
     ]
    }
   ],
   "source": [
    "min_err_train = np.min(err_train)\n",
    "min_err_test = np.min(err_test)\n",
    "print(min_err_train, min_err_test)"
   ]
  },
  {
   "cell_type": "code",
   "execution_count": 55,
   "id": "7ec2c67f",
   "metadata": {},
   "outputs": [
    {
     "name": "stdout",
     "output_type": "stream",
     "text": [
      "[0.01]\n"
     ]
    }
   ],
   "source": [
    "alpha_opt = alpha_arr[err_test == min_err_test]\n",
    "print(alpha_opt)"
   ]
  },
  {
   "cell_type": "markdown",
   "id": "63309251",
   "metadata": {},
   "source": [
    "***Классификатор при оптимальном значении alpha***"
   ]
  },
  {
   "cell_type": "code",
   "execution_count": 57,
   "id": "75e03d4e",
   "metadata": {},
   "outputs": [
    {
     "name": "stdout",
     "output_type": "stream",
     "text": [
      "Ошибка на обучающей выборке:  0.1019625630200792\n",
      "Ошибка на тестовой выборке:  0.10241890746187421\n"
     ]
    }
   ],
   "source": [
    "mlp_model = MLPClassifier(hidden_layer_sizes = (2,),\n",
    "                          solver = 'lbfgs', \n",
    "                          activation = 'logistic',\n",
    "                          random_state = 42,\n",
    "                          max_iter=2000,\n",
    "                          alpha = alpha_opt)\n",
    "mlp_model.fit(X_train, y_train)\n",
    "\n",
    "y_train_pred = mlp_model.predict(X_train)\n",
    "y_test_pred = mlp_model.predict(X_test)\n",
    "\n",
    "err_train = np.mean(y_train != y_train_pred)\n",
    "err_test = np.mean(y_test != y_test_pred)\n",
    "print('Ошибка на обучающей выборке: ', err_train)\n",
    "print('Ошибка на тестовой выборке: ', err_test)"
   ]
  },
  {
   "cell_type": "markdown",
   "id": "636bfc6d",
   "metadata": {},
   "source": [
    "## Зависимость ошибки от количества нейронов"
   ]
  },
  {
   "cell_type": "code",
   "execution_count": 59,
   "id": "6696b804",
   "metadata": {},
   "outputs": [],
   "source": [
    "neuron_numbers = np.array([1, 2, 3, 4, 5, 8, 9, 10, 11, 12, 15, 20, 25, 30, 40])\n",
    "err_train = []\n",
    "err_test = []\n",
    "for neuron_number in neuron_numbers:\n",
    "    mlp_model = MLPClassifier(hidden_layer_sizes = (2, neuron_number),\n",
    "                          solver = 'lbfgs', \n",
    "                          activation = 'logistic',\n",
    "                          random_state = 42,\n",
    "                          max_iter=2000,\n",
    "                          alpha = alpha_opt)\n",
    "    mlp_model.fit(X_train, y_train)\n",
    "\n",
    "    y_train_pred = mlp_model.predict(X_train)\n",
    "    y_test_pred = mlp_model.predict(X_test)\n",
    "\n",
    "    err_train.append(np.mean(y_train != y_train_pred))\n",
    "    err_test.append(np.mean(y_test != y_test_pred))"
   ]
  },
  {
   "cell_type": "code",
   "execution_count": 60,
   "id": "026be595",
   "metadata": {},
   "outputs": [
    {
     "data": {
      "image/png": "[encoded data removed]",
      "text/plain": [
       "<Figure size 432x288 with 1 Axes>"
      ]
     },
     "metadata": {
      "needs_background": "light"
     },
     "output_type": "display_data"
    }
   ],
   "source": [
    "plt.semilogx(neuron_numbers, err_train, 'r-o', label = 'train')\n",
    "plt.semilogx(neuron_numbers, err_test, 'b-o', label = 'test')\n",
    "plt.xlim([np.min(neuron_numbers), np.max(neuron_numbers)])\n",
    "\n",
    "plt.title('Error(neuron number)')\n",
    "plt.xlabel('neuron number')\n",
    "plt.ylabel('error')\n",
    "plt.legend()\n",
    "pass"
   ]
  },
  {
   "cell_type": "markdown",
   "id": "82c9dde1",
   "metadata": {},
   "source": [
    "*Исходя из графика, можно сказать, что при neuron number = 0, ..., 10 наблюдается значительное колебание величины ошибки (в некоторых случаях - недообучение). При увеличении числа нейронов ситуация \"выравнивается\"*"
   ]
  },
  {
   "cell_type": "code",
   "execution_count": 61,
   "id": "0e8697a7",
   "metadata": {},
   "outputs": [
    {
     "name": "stdout",
     "output_type": "stream",
     "text": [
      "0.10148456989341102 0.10193742869404118\n"
     ]
    }
   ],
   "source": [
    "min_err_train = np.min(err_train)\n",
    "min_err_test = np.min(err_test)\n",
    "print(min_err_train, min_err_test)"
   ]
  },
  {
   "cell_type": "code",
   "execution_count": 63,
   "id": "931f2a14",
   "metadata": {},
   "outputs": [
    {
     "name": "stdout",
     "output_type": "stream",
     "text": [
      "[5]\n"
     ]
    }
   ],
   "source": [
    "neuron_number_opt = neuron_numbers[err_test == min_err_test]\n",
    "print(neuron_number_opt)"
   ]
  },
  {
   "cell_type": "markdown",
   "id": "86d2a7c8",
   "metadata": {},
   "source": [
    "Классификатор при оптимальном значении числа нейронов"
   ]
  },
  {
   "cell_type": "code",
   "execution_count": 64,
   "id": "a205de3c",
   "metadata": {},
   "outputs": [
    {
     "name": "stdout",
     "output_type": "stream",
     "text": [
      "Ошибка на обучающей выборке:  0.10148456989341102\n",
      "Ошибка на тестовой выборке:  0.10193742869404118\n"
     ]
    }
   ],
   "source": [
    "mlp_model = MLPClassifier(hidden_layer_sizes = (2, neuron_number_opt[0]),\n",
    "                          solver = 'lbfgs', \n",
    "                          activation = 'logistic',\n",
    "                          random_state = 42,\n",
    "                          max_iter=2000,\n",
    "                          alpha = alpha_opt)\n",
    "mlp_model.fit(X_train, y_train)\n",
    "\n",
    "y_train_pred = mlp_model.predict(X_train)\n",
    "y_test_pred = mlp_model.predict(X_test)\n",
    "\n",
    "err_train = np.mean(y_train != y_train_pred)\n",
    "err_test = np.mean(y_test != y_test_pred)\n",
    "print('Ошибка на обучающей выборке: ', err_train)\n",
    "print('Ошибка на тестовой выборке: ', err_test)"
   ]
  },
  {
   "cell_type": "markdown",
   "id": "39ce3cd0",
   "metadata": {},
   "source": [
    "### Зависимость ошибки от количества слоев"
   ]
  },
  {
   "cell_type": "code",
   "execution_count": 65,
   "id": "2540d6b0",
   "metadata": {},
   "outputs": [],
   "source": [
    "layer_numbers = np.array([2, 3, 4, 5, 7, 10, 30, 50])\n",
    "test_err = []\n",
    "train_err = []\n",
    "for ln in layer_numbers:\n",
    "    mlp_model = MLPClassifier(hidden_layer_sizes = (ln, neuron_number_opt[0]),\n",
    "                          solver = 'lbfgs', \n",
    "                          activation = 'logistic',\n",
    "                          random_state = 42,\n",
    "                          max_iter=2000,\n",
    "                          alpha = alpha_opt)\n",
    "    mlp_model.fit(X_train, y_train)\n",
    "\n",
    "    y_train_pred = mlp_model.predict(X_train)\n",
    "    y_test_pred = mlp_model.predict(X_test)\n",
    "\n",
    "    train_err.append(np.mean(y_train != y_train_pred))\n",
    "    test_err.append(np.mean(y_test != y_test_pred))"
   ]
  },
  {
   "cell_type": "code",
   "execution_count": 72,
   "id": "8403a627",
   "metadata": {},
   "outputs": [
    {
     "data": {
      "image/png": "[encoded data removed]",
      "text/plain": [
       "<Figure size 432x288 with 1 Axes>"
      ]
     },
     "metadata": {
      "needs_background": "light"
     },
     "output_type": "display_data"
    }
   ],
   "source": [
    "plt.semilogx(layer_numbers, train_err, 'r-o', label = 'train')\n",
    "plt.semilogx(layer_numbers, test_err, 'b-o', label = 'test')\n",
    "plt.xlim([np.min(layer_numbers), np.max(layer_numbers)])\n",
    "\n",
    "plt.title('Error(layer_numbers)')\n",
    "plt.xlabel('layer_numbers')\n",
    "plt.ylabel('error')\n",
    "plt.legend()\n",
    "pass"
   ]
  },
  {
   "cell_type": "markdown",
   "id": "8624ce84",
   "metadata": {},
   "source": [
    "ошибка накапливается на тестовой выборке начиная с 10 слоя"
   ]
  },
  {
   "cell_type": "code",
   "execution_count": 73,
   "id": "6e6f5d8c",
   "metadata": {},
   "outputs": [
    {
     "name": "stdout",
     "output_type": "stream",
     "text": [
      "0.10148456989341102 0.10193742869404118\n"
     ]
    }
   ],
   "source": [
    "min_train_err = np.min(train_err)\n",
    "min_test_err = np.min(test_err)\n",
    "print(min_train_err, min_test_err)"
   ]
  },
  {
   "cell_type": "code",
   "execution_count": 74,
   "id": "058f12c2",
   "metadata": {},
   "outputs": [
    {
     "name": "stdout",
     "output_type": "stream",
     "text": [
      "[2]\n"
     ]
    }
   ],
   "source": [
    "layer_number_opt = layer_numbers[test_err == min_test_err]\n",
    "print(layer_number_opt)"
   ]
  },
  {
   "cell_type": "code",
   "execution_count": 75,
   "id": "84d264fb",
   "metadata": {},
   "outputs": [
    {
     "name": "stdout",
     "output_type": "stream",
     "text": [
      "              precision    recall  f1-score   support\n",
      "\n",
      "           0       0.89      1.00      0.94     79794\n",
      "           1       0.99      0.39      0.55     15745\n",
      "\n",
      "    accuracy                           0.90     95539\n",
      "   macro avg       0.94      0.69      0.75     95539\n",
      "weighted avg       0.91      0.90      0.88     95539\n",
      "\n"
     ]
    }
   ],
   "source": [
    "from sklearn.metrics import classification_report\n",
    "print(classification_report(y_test, y_test_pred))"
   ]
  },
  {
   "cell_type": "markdown",
   "id": "267df705",
   "metadata": {},
   "source": [
    "TPR= 39%, TNR = 99.9% , FPR = 61%, TNR~0% "
   ]
  },
  {
   "cell_type": "code",
   "execution_count": 81,
   "id": "b7d07b35",
   "metadata": {},
   "outputs": [
    {
     "data": {
      "text/plain": [
       "<sklearn.metrics._plot.confusion_matrix.ConfusionMatrixDisplay at 0x1d71fcd3820>"
      ]
     },
     "execution_count": 81,
     "metadata": {},
     "output_type": "execute_result"
    },
    {
     "data": {
      "image/png": "[encoded data removed]",
      "text/plain": [
       "<Figure size 432x288 with 2 Axes>"
      ]
     },
     "metadata": {
      "needs_background": "light"
     },
     "output_type": "display_data"
    }
   ],
   "source": [
    "from sklearn.metrics import plot_confusion_matrix\n",
    "plot_confusion_matrix(mlp_model, X_test, y_test)"
   ]
  },
  {
   "cell_type": "markdown",
   "id": "7395ae66",
   "metadata": {},
   "source": [
    "## Выводы"
   ]
  },
  {
   "cell_type": "markdown",
   "id": "d3131193",
   "metadata": {},
   "source": [
    "- Оптимальное количество слоев = 2 \n",
    "- Оптимальное количество нейронов = 5\n",
    "- Оптимальное alpha = 0.01"
   ]
  },
  {
   "cell_type": "code",
   "execution_count": null,
   "id": "87c9a407",
   "metadata": {},
   "outputs": [],
   "source": []
  }
 ],
 "metadata": {
  "kernelspec": {
   "display_name": "Python 3",
   "language": "python",
   "name": "python3"
  },
  "language_info": {
   "codemirror_mode": {
    "name": "ipython",
    "version": 3
   },
   "file_extension": ".py",
   "mimetype": "text/x-python",
   "name": "python",
   "nbconvert_exporter": "python",
   "pygments_lexer": "ipython3",
   "version": "3.8.8"
  }
 },
 "nbformat": 4,
 "nbformat_minor": 5
}
