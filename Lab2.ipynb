{
 "cells": [
  {
   "cell_type": "markdown",
   "id": "44322664",
   "metadata": {},
   "source": [
    "# Прогнозирование: Покупки страховки на транспорт клиентом"
   ]
  },
  {
   "cell_type": "markdown",
   "id": "a7e431bd",
   "metadata": {},
   "source": [
    "## Чтение данных"
   ]
  },
  {
   "cell_type": "code",
   "execution_count": 33,
   "id": "9d34855a",
   "metadata": {},
   "outputs": [],
   "source": [
    "import pandas as pd\n",
    "import matplotlib.pyplot as plt\n",
    "%matplotlib inline \n",
    "import numpy as np          \n",
    "import seaborn as sns         \n",
    "import sklearn      \n",
    "\n",
    "train_dataset = []\n",
    "test_dataset = []\n",
    "dataset = []\n",
    "\n",
    "dataset = pd.read_csv(\"insurance/aug_train.csv\", sep=',', encoding=\"Windows-1252\")"
   ]
  },
  {
   "cell_type": "code",
   "execution_count": 34,
   "id": "de87b95d",
   "metadata": {},
   "outputs": [],
   "source": [
    "import warnings\n",
    "warnings.filterwarnings(\"ignore\")"
   ]
  },
  {
   "cell_type": "code",
   "execution_count": 35,
   "id": "b83f9e31",
   "metadata": {},
   "outputs": [],
   "source": [
    "categorical_ind = list(range(5,8)) + [1] + [3] + [11]\n",
    "dataset.iloc[:,categorical_ind]=dataset.iloc[:,categorical_ind].astype('category')\n",
    "categorical_columns = [c for c in dataset.columns if dataset[c].dtype.name == 'category']\n",
    "numerical_columns   = [c for c in dataset.columns if dataset[c].dtype.name != 'category']\n",
    "\n",
    "data_describe = dataset.describe(include = ['category'])\n",
    "binary_columns    = [c for c in categorical_columns if data_describe[c]['unique'] == 2]\n",
    "nonbinary_columns = [c for c in categorical_columns if data_describe[c]['unique'] > 2]\n",
    "\n",
    "data_nonbinary = pd.get_dummies(dataset[nonbinary_columns])\n",
    "\n",
    "for col_num in binary_columns:\n",
    "    dataset[col_num] = dataset[col_num].astype(object)\n",
    "\n",
    "dataset.at[dataset['Gender'] == 'Male', 'Gender'] = 0\n",
    "dataset.at[dataset['Gender'] == 'Female', 'Gender'] = 1\n",
    "\n",
    "dataset.at[dataset['Vehicle_Damage'] == 'No', 'Vehicle_Damage'] = 0\n",
    "dataset.at[dataset['Vehicle_Damage'] == 'Yes', 'Vehicle_Damage'] = 1\n",
    "\n",
    "for col_num in binary_columns:\n",
    "    dataset[col_num] = dataset[col_num].astype('category')\n",
    "    \n",
    "data_numerical = dataset[numerical_columns]\n",
    "data_numerical = (data_numerical - data_numerical.mean(axis = 0))/data_numerical.std(axis = 0)"
   ]
  },
  {
   "cell_type": "code",
   "execution_count": 36,
   "id": "83920084",
   "metadata": {},
   "outputs": [],
   "source": [
    "data = pd.concat((data_numerical, data_nonbinary, dataset[binary_columns]), axis = 1)"
   ]
  },
  {
   "cell_type": "code",
   "execution_count": 37,
   "id": "bec1a0bc",
   "metadata": {},
   "outputs": [],
   "source": [
    "X = data.drop('Response', axis = 1)\n",
    "y = data['Response']"
   ]
  },
  {
   "cell_type": "markdown",
   "id": "e1ba3f77",
   "metadata": {},
   "source": [
    "## Разбиваем данные на тренировочную и тестовую выборку"
   ]
  },
  {
   "cell_type": "code",
   "execution_count": 38,
   "id": "b23d316f",
   "metadata": {},
   "outputs": [
    {
     "data": {
      "text/plain": [
       "(286615, 95539)"
      ]
     },
     "execution_count": 38,
     "metadata": {},
     "output_type": "execute_result"
    }
   ],
   "source": [
    "from sklearn.model_selection import train_test_split\n",
    "X_train, X_test, y_train, y_test = train_test_split(X, y, test_size = 0.25, random_state = 42)\n",
    "\n",
    "N_train, _ = X_train.shape \n",
    "N_test,  _ = X_test.shape \n",
    "\n",
    "N_train, N_test"
   ]
  },
  {
   "cell_type": "markdown",
   "id": "eb66b889",
   "metadata": {},
   "source": [
    "## Обучение классификатора"
   ]
  },
  {
   "cell_type": "code",
   "execution_count": 39,
   "id": "317e3013",
   "metadata": {},
   "outputs": [],
   "source": [
    "from sklearn.neural_network import MLPClassifier"
   ]
  },
  {
   "cell_type": "code",
   "execution_count": 41,
   "id": "2455b0f7",
   "metadata": {},
   "outputs": [
    {
     "data": {
      "text/plain": [
       "MLPClassifier(activation='logistic', hidden_layer_sizes=(2,), max_iter=2000,\n",
       "              random_state=42, solver='lbfgs')"
      ]
     },
     "execution_count": 41,
     "metadata": {},
     "output_type": "execute_result"
    }
   ],
   "source": [
    "mlp_model = MLPClassifier(hidden_layer_sizes = (2,),\n",
    "                          solver = 'lbfgs', \n",
    "                          activation = 'logistic',\n",
    "                          random_state = 42,\n",
    "                         max_iter=2000)\n",
    "mlp_model.fit(X_train, y_train)"
   ]
  },
  {
   "cell_type": "code",
   "execution_count": 42,
   "id": "d325e5dd",
   "metadata": {},
   "outputs": [],
   "source": [
    "y_train_pred = mlp_model.predict(X_train)\n",
    "y_test_pred = mlp_model.predict(X_test)"
   ]
  },
  {
   "cell_type": "markdown",
   "id": "e2334f9e",
   "metadata": {},
   "source": [
    "Ошибка на обучаеющей и тестовой выборках"
   ]
  },
  {
   "cell_type": "code",
   "execution_count": 43,
   "id": "8bda119e",
   "metadata": {},
   "outputs": [
    {
     "name": "stdout",
     "output_type": "stream",
     "text": [
      "Ошибка на обучающей выборке:  0.10202187603579715\n",
      "Ошибка на тестовой выборке:  0.10239797360240321\n"
     ]
    }
   ],
   "source": [
    "err_train = np.mean(y_train != y_train_pred)\n",
    "err_test = np.mean(y_test != y_test_pred)\n",
    "print('Ошибка на обучающей выборке: ', err_train)\n",
    "print('Ошибка на тестовой выборке: ', err_test)"
   ]
  },
  {
   "cell_type": "markdown",
   "id": "f0e65a14",
   "metadata": {},
   "source": [
    "## Зависимость ошибки от параметра alpha"
   ]
  },
  {
   "cell_type": "code",
   "execution_count": 45,
   "id": "1c8958bc",
   "metadata": {},
   "outputs": [],
   "source": [
    "from sklearn.metrics import accuracy_score\n",
    "alpha_arr = np.logspace(-2, 19, 21)\n",
    "err_train = []\n",
    "err_test = []\n",
    "train_acc = []\n",
    "test_acc = []\n",
    "\n",
    "for alpha in alpha_arr:\n",
    "    mlp_model = MLPClassifier(hidden_layer_sizes = (2,),\n",
    "                          solver = 'lbfgs', \n",
    "                          activation = 'logistic',\n",
    "                          random_state = 42,\n",
    "                          max_iter=2000,\n",
    "                          alpha = alpha)\n",
    "    mlp_model.fit(X_train, y_train)\n",
    "    y_train_pred = mlp_model.predict(X_train)\n",
    "    y_test_pred = mlp_model.predict(X_test)\n",
    "    err_train.append(np.mean(y_train != y_train_pred))\n",
    "    err_test.append(np.mean(y_test != y_test_pred))\n",
    "    train_acc.append(accuracy_score(y_train, y_train_pred))\n",
    "    test_acc.append(accuracy_score(y_test, y_test_pred))\n"
   ]
  },
  {
   "cell_type": "code",
   "execution_count": 53,
   "id": "9e23b303",
   "metadata": {},
   "outputs": [
    {
     "data": {
      "text/plain": [
       "<matplotlib.legend.Legend at 0x1d71af1f130>"
      ]
     },
     "execution_count": 53,
     "metadata": {},
     "output_type": "execute_result"
    },
    {
     "data": {
      "image/png": "[encoded data removed]",
      "text/plain": [
       "<Figure size 432x288 with 1 Axes>"
      ]
     },
     "metadata": {
      "needs_background": "light"
     },
     "output_type": "display_data"
    }
   ],
   "source": [
    "plt.semilogx(alpha_arr, train_acc, 'r-o', label = 'train')\n",
    "plt.semilogx(alpha_arr, test_acc, 'b-o', label = 'test')\n",
    "plt.xlim([np.min(alpha_arr), np.max(alpha_arr)])\n",
    "plt.title('Accuracy(alpha)')\n",
    "plt.xlabel('alpha')\n",
    "plt.ylabel('Accuracy')\n",
    "plt.legend()"
   ]
  },
  {
   "cell_type": "code",
   "execution_count": 52,
   "id": "ef823278",
   "metadata": {},
   "outputs": [
    {
     "data": {
      "text/plain": [
       "<matplotlib.legend.Legend at 0x1d71ecffc40>"
      ]
     },
     "execution_count": 52,
     "metadata": {},
     "output_type": "execute_result"
    },
    {
     "data": {
      "image/png": "[encoded data removed]",
      "text/plain": [
       "<Figure size 432x288 with 1 Axes>"
      ]
     },
     "metadata": {
      "needs_background": "light"
     },
     "output_type": "display_data"
    }
   ],
   "source": [
    "plt.semilogx(alpha_arr, err_train, 'r-o', label = 'train')\n",
    "plt.semilogx(alpha_arr, err_test, 'b-o', label = 'test')\n",
    "plt.xlim([np.min(alpha_arr), np.max(alpha_arr)])\n",
    "plt.title('Error(alpha)')\n",
    "plt.xlabel('alpha')\n",
    "plt.ylabel('error')\n",
    "plt.legend()"
   ]
  },
  {
   "cell_type": "code",
   "execution_count": 54,
   "id": "9136c42a",
   "metadata": {},
   "outputs": [
    {
     "name": "stdout",
     "output_type": "stream",
     "text": [
      "0.1019625630200792 0.10241890746187421\n"
     ]
    }
   ],
   "source": [
    "min_err_train = np.min(err_train)\n",
    "min_err_test = np.min(err_test)\n",
    "print(min_err_train, min_err_test)"
   ]
  },
  {
   "cell_type": "code",
   "execution_count": 55,
   "id": "9aaa4263",
   "metadata": {},
   "outputs": [
    {
     "name": "stdout",
     "output_type": "stream",
     "text": [
      "[0.01]\n"
     ]
    }
   ],
   "source": [
    "alpha_opt = alpha_arr[err_test == min_err_test]\n",
    "print(alpha_opt)"
   ]
  },
  {
   "cell_type": "markdown",
   "id": "7aa1bcf9",
   "metadata": {},
   "source": [
    "***Классификатор при оптимальном значении alpha***"
   ]
  },
  {
   "cell_type": "code",
   "execution_count": 57,
   "id": "4363a806",
   "metadata": {},
   "outputs": [
    {
     "name": "stdout",
     "output_type": "stream",
     "text": [
      "Ошибка на обучающей выборке:  0.1019625630200792\n",
      "Ошибка на тестовой выборке:  0.10241890746187421\n"
     ]
    }
   ],
   "source": [
    "mlp_model = MLPClassifier(hidden_layer_sizes = (2,),\n",
    "                          solver = 'lbfgs', \n",
    "                          activation = 'logistic',\n",
    "                          random_state = 42,\n",
    "                          max_iter=2000,\n",
    "                          alpha = alpha_opt)\n",
    "mlp_model.fit(X_train, y_train)\n",
    "\n",
    "y_train_pred = mlp_model.predict(X_train)\n",
    "y_test_pred = mlp_model.predict(X_test)\n",
    "\n",
    "err_train = np.mean(y_train != y_train_pred)\n",
    "err_test = np.mean(y_test != y_test_pred)\n",
    "print('Ошибка на обучающей выборке: ', err_train)\n",
    "print('Ошибка на тестовой выборке: ', err_test)"
   ]
  },
  {
   "cell_type": "code",
   "execution_count": null,
   "id": "5326d04e",
   "metadata": {},
   "outputs": [],
   "source": []
  }
 ],
 "metadata": {
  "kernelspec": {
   "display_name": "Python 3",
   "language": "python",
   "name": "python3"
  },
  "language_info": {
   "codemirror_mode": {
    "name": "ipython",
    "version": 3
   },
   "file_extension": ".py",
   "mimetype": "text/x-python",
   "name": "python",
   "nbconvert_exporter": "python",
   "pygments_lexer": "ipython3",
   "version": "3.8.8"
  }
 },
 "nbformat": 4,
 "nbformat_minor": 5
}
