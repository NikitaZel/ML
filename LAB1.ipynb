{
 "cells": [
  {
   "cell_type": "markdown",
   "id": "8c9424ce",
   "metadata": {},
   "source": [
    "# Прогнозирование: Покупки страховки на транспорт клиентом"
   ]
  },
  {
   "cell_type": "markdown",
   "id": "c00fb26f",
   "metadata": {},
   "source": [
    "## Описание задачи"
   ]
  },
  {
   "cell_type": "markdown",
   "id": "f0950ad6",
   "metadata": {},
   "source": [
    "Страховая фирма хочет спрогнозировать возьмёт ли человек страховку на транспорт, на основе следующих собранных данных:\n",
    "\n",
    "- Демография (пол, возраст, тип кода региона),\n",
    "\n",
    "- Транспортные средства (Возраст Транспортного средства, Повреждения),\n",
    "\n",
    "- Политика страхования(премия, ценовые каналы)\n",
    "\n",
    "\n",
    "в тренировочной выборке: 286615 клиентов\n",
    "\n",
    "в тестовой выборке :95539 клиента"
   ]
  },
  {
   "cell_type": "markdown",
   "id": "cf3859b5",
   "metadata": {},
   "source": [
    "## Чтение данных"
   ]
  },
  {
   "cell_type": "code",
   "execution_count": 52,
   "id": "e0ec13f8",
   "metadata": {
    "scrolled": true
   },
   "outputs": [],
   "source": [
    "import pandas as pd\n",
    "import matplotlib.pyplot as plt\n",
    "%matplotlib inline \n",
    "import numpy as np          \n",
    "import seaborn as sns         \n",
    "import sklearn      \n",
    "\n",
    "train_dataset = []\n",
    "test_dataset = []\n",
    "dataset = []\n",
    "\n",
    "dataset = pd.read_csv(\"insurance/aug_train.csv\", sep=',', encoding=\"Windows-1252\")"
   ]
  },
  {
   "cell_type": "markdown",
   "id": "486ff026",
   "metadata": {},
   "source": [
    "### Рассмотрим информацию о датасете"
   ]
  },
  {
   "cell_type": "code",
   "execution_count": 53,
   "id": "871f285b",
   "metadata": {
    "scrolled": true
   },
   "outputs": [],
   "source": [
    "import warnings\n",
    "warnings.filterwarnings(\"ignore\")"
   ]
  },
  {
   "cell_type": "code",
   "execution_count": 54,
   "id": "1a90c53e",
   "metadata": {
    "scrolled": true
   },
   "outputs": [
    {
     "data": {
      "text/plain": [
       "(382154, 12)"
      ]
     },
     "execution_count": 54,
     "metadata": {},
     "output_type": "execute_result"
    }
   ],
   "source": [
    "dataset.shape"
   ]
  },
  {
   "cell_type": "code",
   "execution_count": 55,
   "id": "f7ad9b40",
   "metadata": {
    "scrolled": true
   },
   "outputs": [
    {
     "data": {
      "text/html": [
       "<div>\n",
       "<style scoped>\n",
       "    .dataframe tbody tr th:only-of-type {\n",
       "        vertical-align: middle;\n",
       "    }\n",
       "\n",
       "    .dataframe tbody tr th {\n",
       "        vertical-align: top;\n",
       "    }\n",
       "\n",
       "    .dataframe thead th {\n",
       "        text-align: right;\n",
       "    }\n",
       "</style>\n",
       "<table border=\"1\" class=\"dataframe\">\n",
       "  <thead>\n",
       "    <tr style=\"text-align: right;\">\n",
       "      <th></th>\n",
       "      <th>id</th>\n",
       "      <th>Gender</th>\n",
       "      <th>Age</th>\n",
       "      <th>Driving_License</th>\n",
       "      <th>Region_Code</th>\n",
       "      <th>Previously_Insured</th>\n",
       "      <th>Vehicle_Age</th>\n",
       "      <th>Vehicle_Damage</th>\n",
       "      <th>Annual_Premium</th>\n",
       "      <th>Policy_Sales_Channel</th>\n",
       "      <th>Vintage</th>\n",
       "      <th>Response</th>\n",
       "    </tr>\n",
       "  </thead>\n",
       "  <tbody>\n",
       "    <tr>\n",
       "      <th>0</th>\n",
       "      <td>167647</td>\n",
       "      <td>Male</td>\n",
       "      <td>22</td>\n",
       "      <td>1</td>\n",
       "      <td>7.0</td>\n",
       "      <td>1</td>\n",
       "      <td>&lt; 1 Year</td>\n",
       "      <td>No</td>\n",
       "      <td>2630.0</td>\n",
       "      <td>152.0</td>\n",
       "      <td>16</td>\n",
       "      <td>0</td>\n",
       "    </tr>\n",
       "    <tr>\n",
       "      <th>1</th>\n",
       "      <td>17163</td>\n",
       "      <td>Male</td>\n",
       "      <td>42</td>\n",
       "      <td>1</td>\n",
       "      <td>28.0</td>\n",
       "      <td>0</td>\n",
       "      <td>1-2 Year</td>\n",
       "      <td>Yes</td>\n",
       "      <td>43327.0</td>\n",
       "      <td>26.0</td>\n",
       "      <td>135</td>\n",
       "      <td>0</td>\n",
       "    </tr>\n",
       "    <tr>\n",
       "      <th>2</th>\n",
       "      <td>32023</td>\n",
       "      <td>Female</td>\n",
       "      <td>66</td>\n",
       "      <td>1</td>\n",
       "      <td>33.0</td>\n",
       "      <td>0</td>\n",
       "      <td>1-2 Year</td>\n",
       "      <td>Yes</td>\n",
       "      <td>35841.0</td>\n",
       "      <td>124.0</td>\n",
       "      <td>253</td>\n",
       "      <td>0</td>\n",
       "    </tr>\n",
       "    <tr>\n",
       "      <th>3</th>\n",
       "      <td>87447</td>\n",
       "      <td>Female</td>\n",
       "      <td>22</td>\n",
       "      <td>1</td>\n",
       "      <td>33.0</td>\n",
       "      <td>0</td>\n",
       "      <td>&lt; 1 Year</td>\n",
       "      <td>No</td>\n",
       "      <td>27645.0</td>\n",
       "      <td>152.0</td>\n",
       "      <td>69</td>\n",
       "      <td>0</td>\n",
       "    </tr>\n",
       "    <tr>\n",
       "      <th>4</th>\n",
       "      <td>501933</td>\n",
       "      <td>Male</td>\n",
       "      <td>28</td>\n",
       "      <td>1</td>\n",
       "      <td>46.0</td>\n",
       "      <td>1</td>\n",
       "      <td>&lt; 1 Year</td>\n",
       "      <td>No</td>\n",
       "      <td>29023.0</td>\n",
       "      <td>152.0</td>\n",
       "      <td>211</td>\n",
       "      <td>0</td>\n",
       "    </tr>\n",
       "    <tr>\n",
       "      <th>5</th>\n",
       "      <td>295775</td>\n",
       "      <td>Female</td>\n",
       "      <td>25</td>\n",
       "      <td>1</td>\n",
       "      <td>25.0</td>\n",
       "      <td>1</td>\n",
       "      <td>&lt; 1 Year</td>\n",
       "      <td>No</td>\n",
       "      <td>27954.0</td>\n",
       "      <td>152.0</td>\n",
       "      <td>23</td>\n",
       "      <td>0</td>\n",
       "    </tr>\n",
       "    <tr>\n",
       "      <th>6</th>\n",
       "      <td>71711</td>\n",
       "      <td>Male</td>\n",
       "      <td>51</td>\n",
       "      <td>1</td>\n",
       "      <td>8.0</td>\n",
       "      <td>0</td>\n",
       "      <td>1-2 Year</td>\n",
       "      <td>Yes</td>\n",
       "      <td>2630.0</td>\n",
       "      <td>26.0</td>\n",
       "      <td>209</td>\n",
       "      <td>0</td>\n",
       "    </tr>\n",
       "    <tr>\n",
       "      <th>7</th>\n",
       "      <td>331781</td>\n",
       "      <td>Male</td>\n",
       "      <td>38</td>\n",
       "      <td>1</td>\n",
       "      <td>28.0</td>\n",
       "      <td>1</td>\n",
       "      <td>1-2 Year</td>\n",
       "      <td>No</td>\n",
       "      <td>2630.0</td>\n",
       "      <td>26.0</td>\n",
       "      <td>51</td>\n",
       "      <td>0</td>\n",
       "    </tr>\n",
       "    <tr>\n",
       "      <th>8</th>\n",
       "      <td>290704</td>\n",
       "      <td>Female</td>\n",
       "      <td>45</td>\n",
       "      <td>1</td>\n",
       "      <td>28.0</td>\n",
       "      <td>0</td>\n",
       "      <td>1-2 Year</td>\n",
       "      <td>Yes</td>\n",
       "      <td>55873.0</td>\n",
       "      <td>124.0</td>\n",
       "      <td>262</td>\n",
       "      <td>0</td>\n",
       "    </tr>\n",
       "    <tr>\n",
       "      <th>9</th>\n",
       "      <td>344792</td>\n",
       "      <td>Male</td>\n",
       "      <td>42</td>\n",
       "      <td>1</td>\n",
       "      <td>28.0</td>\n",
       "      <td>0</td>\n",
       "      <td>1-2 Year</td>\n",
       "      <td>Yes</td>\n",
       "      <td>27801.0</td>\n",
       "      <td>122.0</td>\n",
       "      <td>217</td>\n",
       "      <td>1</td>\n",
       "    </tr>\n",
       "  </tbody>\n",
       "</table>\n",
       "</div>"
      ],
      "text/plain": [
       "       id  Gender  Age  Driving_License  Region_Code  Previously_Insured  \\\n",
       "0  167647    Male   22                1          7.0                   1   \n",
       "1   17163    Male   42                1         28.0                   0   \n",
       "2   32023  Female   66                1         33.0                   0   \n",
       "3   87447  Female   22                1         33.0                   0   \n",
       "4  501933    Male   28                1         46.0                   1   \n",
       "5  295775  Female   25                1         25.0                   1   \n",
       "6   71711    Male   51                1          8.0                   0   \n",
       "7  331781    Male   38                1         28.0                   1   \n",
       "8  290704  Female   45                1         28.0                   0   \n",
       "9  344792    Male   42                1         28.0                   0   \n",
       "\n",
       "  Vehicle_Age Vehicle_Damage  Annual_Premium  Policy_Sales_Channel  Vintage  \\\n",
       "0    < 1 Year             No          2630.0                 152.0       16   \n",
       "1    1-2 Year            Yes         43327.0                  26.0      135   \n",
       "2    1-2 Year            Yes         35841.0                 124.0      253   \n",
       "3    < 1 Year             No         27645.0                 152.0       69   \n",
       "4    < 1 Year             No         29023.0                 152.0      211   \n",
       "5    < 1 Year             No         27954.0                 152.0       23   \n",
       "6    1-2 Year            Yes          2630.0                  26.0      209   \n",
       "7    1-2 Year             No          2630.0                  26.0       51   \n",
       "8    1-2 Year            Yes         55873.0                 124.0      262   \n",
       "9    1-2 Year            Yes         27801.0                 122.0      217   \n",
       "\n",
       "   Response  \n",
       "0         0  \n",
       "1         0  \n",
       "2         0  \n",
       "3         0  \n",
       "4         0  \n",
       "5         0  \n",
       "6         0  \n",
       "7         0  \n",
       "8         0  \n",
       "9         1  "
      ]
     },
     "execution_count": 55,
     "metadata": {},
     "output_type": "execute_result"
    }
   ],
   "source": [
    "dataset.head(10)"
   ]
  },
  {
   "cell_type": "code",
   "execution_count": 56,
   "id": "6c07218c",
   "metadata": {
    "scrolled": true
   },
   "outputs": [
    {
     "data": {
      "text/html": [
       "<div>\n",
       "<style scoped>\n",
       "    .dataframe tbody tr th:only-of-type {\n",
       "        vertical-align: middle;\n",
       "    }\n",
       "\n",
       "    .dataframe tbody tr th {\n",
       "        vertical-align: top;\n",
       "    }\n",
       "\n",
       "    .dataframe thead th {\n",
       "        text-align: right;\n",
       "    }\n",
       "</style>\n",
       "<table border=\"1\" class=\"dataframe\">\n",
       "  <thead>\n",
       "    <tr style=\"text-align: right;\">\n",
       "      <th></th>\n",
       "      <th>id</th>\n",
       "      <th>Gender</th>\n",
       "      <th>Age</th>\n",
       "      <th>Driving_License</th>\n",
       "      <th>Region_Code</th>\n",
       "      <th>Previously_Insured</th>\n",
       "      <th>Vehicle_Age</th>\n",
       "      <th>Vehicle_Damage</th>\n",
       "      <th>Annual_Premium</th>\n",
       "      <th>Policy_Sales_Channel</th>\n",
       "      <th>Vintage</th>\n",
       "      <th>Response</th>\n",
       "    </tr>\n",
       "  </thead>\n",
       "  <tbody>\n",
       "    <tr>\n",
       "      <th>382144</th>\n",
       "      <td>340265</td>\n",
       "      <td>Male</td>\n",
       "      <td>24</td>\n",
       "      <td>1</td>\n",
       "      <td>49.0</td>\n",
       "      <td>0</td>\n",
       "      <td>&lt; 1 Year</td>\n",
       "      <td>Yes</td>\n",
       "      <td>2630.0</td>\n",
       "      <td>160.0</td>\n",
       "      <td>273</td>\n",
       "      <td>0</td>\n",
       "    </tr>\n",
       "    <tr>\n",
       "      <th>382145</th>\n",
       "      <td>213608</td>\n",
       "      <td>Female</td>\n",
       "      <td>25</td>\n",
       "      <td>1</td>\n",
       "      <td>6.0</td>\n",
       "      <td>1</td>\n",
       "      <td>&lt; 1 Year</td>\n",
       "      <td>No</td>\n",
       "      <td>22911.0</td>\n",
       "      <td>152.0</td>\n",
       "      <td>131</td>\n",
       "      <td>0</td>\n",
       "    </tr>\n",
       "    <tr>\n",
       "      <th>382146</th>\n",
       "      <td>157507</td>\n",
       "      <td>Male</td>\n",
       "      <td>56</td>\n",
       "      <td>1</td>\n",
       "      <td>17.0</td>\n",
       "      <td>0</td>\n",
       "      <td>1-2 Year</td>\n",
       "      <td>Yes</td>\n",
       "      <td>45936.0</td>\n",
       "      <td>124.0</td>\n",
       "      <td>244</td>\n",
       "      <td>0</td>\n",
       "    </tr>\n",
       "    <tr>\n",
       "      <th>382147</th>\n",
       "      <td>498091</td>\n",
       "      <td>Female</td>\n",
       "      <td>48</td>\n",
       "      <td>1</td>\n",
       "      <td>28.0</td>\n",
       "      <td>0</td>\n",
       "      <td>1-2 Year</td>\n",
       "      <td>Yes</td>\n",
       "      <td>42805.0</td>\n",
       "      <td>26.0</td>\n",
       "      <td>80</td>\n",
       "      <td>1</td>\n",
       "    </tr>\n",
       "    <tr>\n",
       "      <th>382148</th>\n",
       "      <td>89317</td>\n",
       "      <td>Male</td>\n",
       "      <td>47</td>\n",
       "      <td>1</td>\n",
       "      <td>43.0</td>\n",
       "      <td>0</td>\n",
       "      <td>1-2 Year</td>\n",
       "      <td>Yes</td>\n",
       "      <td>32774.0</td>\n",
       "      <td>124.0</td>\n",
       "      <td>105</td>\n",
       "      <td>0</td>\n",
       "    </tr>\n",
       "    <tr>\n",
       "      <th>382149</th>\n",
       "      <td>164549</td>\n",
       "      <td>Male</td>\n",
       "      <td>24</td>\n",
       "      <td>1</td>\n",
       "      <td>15.0</td>\n",
       "      <td>0</td>\n",
       "      <td>&lt; 1 Year</td>\n",
       "      <td>Yes</td>\n",
       "      <td>23938.0</td>\n",
       "      <td>152.0</td>\n",
       "      <td>105</td>\n",
       "      <td>0</td>\n",
       "    </tr>\n",
       "    <tr>\n",
       "      <th>382150</th>\n",
       "      <td>247064</td>\n",
       "      <td>Male</td>\n",
       "      <td>27</td>\n",
       "      <td>1</td>\n",
       "      <td>28.0</td>\n",
       "      <td>1</td>\n",
       "      <td>&lt; 1 Year</td>\n",
       "      <td>No</td>\n",
       "      <td>336395.0</td>\n",
       "      <td>152.0</td>\n",
       "      <td>144</td>\n",
       "      <td>0</td>\n",
       "    </tr>\n",
       "    <tr>\n",
       "      <th>382151</th>\n",
       "      <td>165293</td>\n",
       "      <td>Male</td>\n",
       "      <td>45</td>\n",
       "      <td>1</td>\n",
       "      <td>28.0</td>\n",
       "      <td>0</td>\n",
       "      <td>1-2 Year</td>\n",
       "      <td>Yes</td>\n",
       "      <td>40443.0</td>\n",
       "      <td>26.0</td>\n",
       "      <td>187</td>\n",
       "      <td>0</td>\n",
       "    </tr>\n",
       "    <tr>\n",
       "      <th>382152</th>\n",
       "      <td>383241</td>\n",
       "      <td>Female</td>\n",
       "      <td>28</td>\n",
       "      <td>1</td>\n",
       "      <td>28.0</td>\n",
       "      <td>1</td>\n",
       "      <td>&lt; 1 Year</td>\n",
       "      <td>No</td>\n",
       "      <td>25380.0</td>\n",
       "      <td>152.0</td>\n",
       "      <td>208</td>\n",
       "      <td>0</td>\n",
       "    </tr>\n",
       "    <tr>\n",
       "      <th>382153</th>\n",
       "      <td>401019</td>\n",
       "      <td>Female</td>\n",
       "      <td>29</td>\n",
       "      <td>1</td>\n",
       "      <td>18.0</td>\n",
       "      <td>1</td>\n",
       "      <td>&lt; 1 Year</td>\n",
       "      <td>No</td>\n",
       "      <td>30396.0</td>\n",
       "      <td>152.0</td>\n",
       "      <td>104</td>\n",
       "      <td>0</td>\n",
       "    </tr>\n",
       "  </tbody>\n",
       "</table>\n",
       "</div>"
      ],
      "text/plain": [
       "            id  Gender  Age  Driving_License  Region_Code  Previously_Insured  \\\n",
       "382144  340265    Male   24                1         49.0                   0   \n",
       "382145  213608  Female   25                1          6.0                   1   \n",
       "382146  157507    Male   56                1         17.0                   0   \n",
       "382147  498091  Female   48                1         28.0                   0   \n",
       "382148   89317    Male   47                1         43.0                   0   \n",
       "382149  164549    Male   24                1         15.0                   0   \n",
       "382150  247064    Male   27                1         28.0                   1   \n",
       "382151  165293    Male   45                1         28.0                   0   \n",
       "382152  383241  Female   28                1         28.0                   1   \n",
       "382153  401019  Female   29                1         18.0                   1   \n",
       "\n",
       "       Vehicle_Age Vehicle_Damage  Annual_Premium  Policy_Sales_Channel  \\\n",
       "382144    < 1 Year            Yes          2630.0                 160.0   \n",
       "382145    < 1 Year             No         22911.0                 152.0   \n",
       "382146    1-2 Year            Yes         45936.0                 124.0   \n",
       "382147    1-2 Year            Yes         42805.0                  26.0   \n",
       "382148    1-2 Year            Yes         32774.0                 124.0   \n",
       "382149    < 1 Year            Yes         23938.0                 152.0   \n",
       "382150    < 1 Year             No        336395.0                 152.0   \n",
       "382151    1-2 Year            Yes         40443.0                  26.0   \n",
       "382152    < 1 Year             No         25380.0                 152.0   \n",
       "382153    < 1 Year             No         30396.0                 152.0   \n",
       "\n",
       "        Vintage  Response  \n",
       "382144      273         0  \n",
       "382145      131         0  \n",
       "382146      244         0  \n",
       "382147       80         1  \n",
       "382148      105         0  \n",
       "382149      105         0  \n",
       "382150      144         0  \n",
       "382151      187         0  \n",
       "382152      208         0  \n",
       "382153      104         0  "
      ]
     },
     "execution_count": 56,
     "metadata": {},
     "output_type": "execute_result"
    }
   ],
   "source": [
    "dataset.tail(10)"
   ]
  },
  {
   "cell_type": "code",
   "execution_count": 57,
   "id": "04d4673c",
   "metadata": {
    "scrolled": true
   },
   "outputs": [
    {
     "name": "stdout",
     "output_type": "stream",
     "text": [
      "<class 'pandas.core.frame.DataFrame'>\n",
      "RangeIndex: 382154 entries, 0 to 382153\n",
      "Data columns (total 12 columns):\n",
      " #   Column                Non-Null Count   Dtype  \n",
      "---  ------                --------------   -----  \n",
      " 0   id                    382154 non-null  int64  \n",
      " 1   Gender                382154 non-null  object \n",
      " 2   Age                   382154 non-null  int64  \n",
      " 3   Driving_License       382154 non-null  int64  \n",
      " 4   Region_Code           382154 non-null  float64\n",
      " 5   Previously_Insured    382154 non-null  int64  \n",
      " 6   Vehicle_Age           382154 non-null  object \n",
      " 7   Vehicle_Damage        382154 non-null  object \n",
      " 8   Annual_Premium        382154 non-null  float64\n",
      " 9   Policy_Sales_Channel  382154 non-null  float64\n",
      " 10  Vintage               382154 non-null  int64  \n",
      " 11  Response              382154 non-null  int64  \n",
      "dtypes: float64(3), int64(6), object(3)\n",
      "memory usage: 35.0+ MB\n"
     ]
    }
   ],
   "source": [
    "dataset.info()"
   ]
  },
  {
   "cell_type": "markdown",
   "id": "6db7219d",
   "metadata": {},
   "source": [
    "### В наборе данных нет пропущенных значений"
   ]
  },
  {
   "cell_type": "markdown",
   "id": "22174761",
   "metadata": {},
   "source": [
    "Некоторые признаки являются категориальными, но имеют типы object или int64, поэтому необходимо привести соответствующие столбцы к типу category"
   ]
  },
  {
   "cell_type": "code",
   "execution_count": 58,
   "id": "3971789f",
   "metadata": {
    "scrolled": true
   },
   "outputs": [],
   "source": [
    "categorical_ind = list(range(5,8)) + [1] + [3] + [11]\n",
    "dataset.iloc[:,categorical_ind]=dataset.iloc[:,categorical_ind].astype('category')"
   ]
  },
  {
   "cell_type": "code",
   "execution_count": 59,
   "id": "7f0f0522",
   "metadata": {
    "scrolled": true
   },
   "outputs": [
    {
     "name": "stdout",
     "output_type": "stream",
     "text": [
      "<class 'pandas.core.frame.DataFrame'>\n",
      "RangeIndex: 382154 entries, 0 to 382153\n",
      "Data columns (total 12 columns):\n",
      " #   Column                Non-Null Count   Dtype   \n",
      "---  ------                --------------   -----   \n",
      " 0   id                    382154 non-null  int64   \n",
      " 1   Gender                382154 non-null  category\n",
      " 2   Age                   382154 non-null  int64   \n",
      " 3   Driving_License       382154 non-null  category\n",
      " 4   Region_Code           382154 non-null  float64 \n",
      " 5   Previously_Insured    382154 non-null  category\n",
      " 6   Vehicle_Age           382154 non-null  category\n",
      " 7   Vehicle_Damage        382154 non-null  category\n",
      " 8   Annual_Premium        382154 non-null  float64 \n",
      " 9   Policy_Sales_Channel  382154 non-null  float64 \n",
      " 10  Vintage               382154 non-null  int64   \n",
      " 11  Response              382154 non-null  category\n",
      "dtypes: category(6), float64(3), int64(3)\n",
      "memory usage: 19.7 MB\n"
     ]
    }
   ],
   "source": [
    "dataset.info()"
   ]
  },
  {
   "cell_type": "markdown",
   "id": "3586b526",
   "metadata": {},
   "source": [
    "### Вычисление основных характеристик и визуализация данных"
   ]
  },
  {
   "cell_type": "markdown",
   "id": "a9255ef5",
   "metadata": {},
   "source": [
    "сводная тоблица о  количественных признаках"
   ]
  },
  {
   "cell_type": "code",
   "execution_count": 60,
   "id": "d6a4d38b",
   "metadata": {
    "scrolled": true
   },
   "outputs": [
    {
     "data": {
      "text/html": [
       "<div>\n",
       "<style scoped>\n",
       "    .dataframe tbody tr th:only-of-type {\n",
       "        vertical-align: middle;\n",
       "    }\n",
       "\n",
       "    .dataframe tbody tr th {\n",
       "        vertical-align: top;\n",
       "    }\n",
       "\n",
       "    .dataframe thead th {\n",
       "        text-align: right;\n",
       "    }\n",
       "</style>\n",
       "<table border=\"1\" class=\"dataframe\">\n",
       "  <thead>\n",
       "    <tr style=\"text-align: right;\">\n",
       "      <th></th>\n",
       "      <th>id</th>\n",
       "      <th>Age</th>\n",
       "      <th>Region_Code</th>\n",
       "      <th>Annual_Premium</th>\n",
       "      <th>Policy_Sales_Channel</th>\n",
       "      <th>Vintage</th>\n",
       "    </tr>\n",
       "  </thead>\n",
       "  <tbody>\n",
       "    <tr>\n",
       "      <th>count</th>\n",
       "      <td>382154.000000</td>\n",
       "      <td>382154.000000</td>\n",
       "      <td>382154.000000</td>\n",
       "      <td>382154.000000</td>\n",
       "      <td>382154.000000</td>\n",
       "      <td>382154.000000</td>\n",
       "    </tr>\n",
       "    <tr>\n",
       "      <th>mean</th>\n",
       "      <td>234392.953477</td>\n",
       "      <td>38.545691</td>\n",
       "      <td>26.406867</td>\n",
       "      <td>30711.271362</td>\n",
       "      <td>111.939812</td>\n",
       "      <td>154.189429</td>\n",
       "    </tr>\n",
       "    <tr>\n",
       "      <th>std</th>\n",
       "      <td>139527.487326</td>\n",
       "      <td>15.226897</td>\n",
       "      <td>13.181241</td>\n",
       "      <td>17061.595532</td>\n",
       "      <td>54.286511</td>\n",
       "      <td>83.735107</td>\n",
       "    </tr>\n",
       "    <tr>\n",
       "      <th>min</th>\n",
       "      <td>1.000000</td>\n",
       "      <td>20.000000</td>\n",
       "      <td>0.000000</td>\n",
       "      <td>2630.000000</td>\n",
       "      <td>1.000000</td>\n",
       "      <td>10.000000</td>\n",
       "    </tr>\n",
       "    <tr>\n",
       "      <th>25%</th>\n",
       "      <td>115006.250000</td>\n",
       "      <td>25.000000</td>\n",
       "      <td>15.000000</td>\n",
       "      <td>24546.000000</td>\n",
       "      <td>26.000000</td>\n",
       "      <td>81.000000</td>\n",
       "    </tr>\n",
       "    <tr>\n",
       "      <th>50%</th>\n",
       "      <td>230461.500000</td>\n",
       "      <td>36.000000</td>\n",
       "      <td>28.000000</td>\n",
       "      <td>31692.000000</td>\n",
       "      <td>145.000000</td>\n",
       "      <td>154.000000</td>\n",
       "    </tr>\n",
       "    <tr>\n",
       "      <th>75%</th>\n",
       "      <td>345434.750000</td>\n",
       "      <td>49.000000</td>\n",
       "      <td>35.000000</td>\n",
       "      <td>39447.750000</td>\n",
       "      <td>152.000000</td>\n",
       "      <td>227.000000</td>\n",
       "    </tr>\n",
       "    <tr>\n",
       "      <th>max</th>\n",
       "      <td>508145.000000</td>\n",
       "      <td>85.000000</td>\n",
       "      <td>52.000000</td>\n",
       "      <td>540165.000000</td>\n",
       "      <td>163.000000</td>\n",
       "      <td>299.000000</td>\n",
       "    </tr>\n",
       "  </tbody>\n",
       "</table>\n",
       "</div>"
      ],
      "text/plain": [
       "                  id            Age    Region_Code  Annual_Premium  \\\n",
       "count  382154.000000  382154.000000  382154.000000   382154.000000   \n",
       "mean   234392.953477      38.545691      26.406867    30711.271362   \n",
       "std    139527.487326      15.226897      13.181241    17061.595532   \n",
       "min         1.000000      20.000000       0.000000     2630.000000   \n",
       "25%    115006.250000      25.000000      15.000000    24546.000000   \n",
       "50%    230461.500000      36.000000      28.000000    31692.000000   \n",
       "75%    345434.750000      49.000000      35.000000    39447.750000   \n",
       "max    508145.000000      85.000000      52.000000   540165.000000   \n",
       "\n",
       "       Policy_Sales_Channel        Vintage  \n",
       "count         382154.000000  382154.000000  \n",
       "mean             111.939812     154.189429  \n",
       "std               54.286511      83.735107  \n",
       "min                1.000000      10.000000  \n",
       "25%               26.000000      81.000000  \n",
       "50%              145.000000     154.000000  \n",
       "75%              152.000000     227.000000  \n",
       "max              163.000000     299.000000  "
      ]
     },
     "execution_count": 60,
     "metadata": {},
     "output_type": "execute_result"
    }
   ],
   "source": [
    "dataset.describe()"
   ]
  },
  {
   "cell_type": "markdown",
   "id": "e93ada35",
   "metadata": {},
   "source": [
    "Получим сводную информацию о категориальных признаках:"
   ]
  },
  {
   "cell_type": "code",
   "execution_count": 61,
   "id": "58480b57",
   "metadata": {
    "scrolled": true
   },
   "outputs": [
    {
     "data": {
      "text/html": [
       "<div>\n",
       "<style scoped>\n",
       "    .dataframe tbody tr th:only-of-type {\n",
       "        vertical-align: middle;\n",
       "    }\n",
       "\n",
       "    .dataframe tbody tr th {\n",
       "        vertical-align: top;\n",
       "    }\n",
       "\n",
       "    .dataframe thead th {\n",
       "        text-align: right;\n",
       "    }\n",
       "</style>\n",
       "<table border=\"1\" class=\"dataframe\">\n",
       "  <thead>\n",
       "    <tr style=\"text-align: right;\">\n",
       "      <th></th>\n",
       "      <th>Gender</th>\n",
       "      <th>Driving_License</th>\n",
       "      <th>Previously_Insured</th>\n",
       "      <th>Vehicle_Age</th>\n",
       "      <th>Vehicle_Damage</th>\n",
       "      <th>Response</th>\n",
       "    </tr>\n",
       "  </thead>\n",
       "  <tbody>\n",
       "    <tr>\n",
       "      <th>count</th>\n",
       "      <td>382154</td>\n",
       "      <td>382154</td>\n",
       "      <td>382154</td>\n",
       "      <td>382154</td>\n",
       "      <td>382154</td>\n",
       "      <td>382154</td>\n",
       "    </tr>\n",
       "    <tr>\n",
       "      <th>unique</th>\n",
       "      <td>2</td>\n",
       "      <td>2</td>\n",
       "      <td>2</td>\n",
       "      <td>3</td>\n",
       "      <td>2</td>\n",
       "      <td>2</td>\n",
       "    </tr>\n",
       "    <tr>\n",
       "      <th>top</th>\n",
       "      <td>Male</td>\n",
       "      <td>1</td>\n",
       "      <td>0</td>\n",
       "      <td>1-2 Year</td>\n",
       "      <td>No</td>\n",
       "      <td>0</td>\n",
       "    </tr>\n",
       "    <tr>\n",
       "      <th>freq</th>\n",
       "      <td>205603</td>\n",
       "      <td>381431</td>\n",
       "      <td>195211</td>\n",
       "      <td>200176</td>\n",
       "      <td>198501</td>\n",
       "      <td>319553</td>\n",
       "    </tr>\n",
       "  </tbody>\n",
       "</table>\n",
       "</div>"
      ],
      "text/plain": [
       "        Gender  Driving_License  Previously_Insured Vehicle_Age  \\\n",
       "count   382154           382154              382154      382154   \n",
       "unique       2                2                   2           3   \n",
       "top       Male                1                   0    1-2 Year   \n",
       "freq    205603           381431              195211      200176   \n",
       "\n",
       "       Vehicle_Damage  Response  \n",
       "count          382154    382154  \n",
       "unique              2         2  \n",
       "top                No         0  \n",
       "freq           198501    319553  "
      ]
     },
     "execution_count": 61,
     "metadata": {},
     "output_type": "execute_result"
    }
   ],
   "source": [
    "dataset.describe(include = ['category'])"
   ]
  },
  {
   "cell_type": "markdown",
   "id": "e2acb117",
   "metadata": {},
   "source": [
    "Вычислим матрицу корреляции"
   ]
  },
  {
   "cell_type": "code",
   "execution_count": 62,
   "id": "36b848ab",
   "metadata": {
    "scrolled": true
   },
   "outputs": [
    {
     "data": {
      "text/html": [
       "<div>\n",
       "<style scoped>\n",
       "    .dataframe tbody tr th:only-of-type {\n",
       "        vertical-align: middle;\n",
       "    }\n",
       "\n",
       "    .dataframe tbody tr th {\n",
       "        vertical-align: top;\n",
       "    }\n",
       "\n",
       "    .dataframe thead th {\n",
       "        text-align: right;\n",
       "    }\n",
       "</style>\n",
       "<table border=\"1\" class=\"dataframe\">\n",
       "  <thead>\n",
       "    <tr style=\"text-align: right;\">\n",
       "      <th></th>\n",
       "      <th>id</th>\n",
       "      <th>Age</th>\n",
       "      <th>Region_Code</th>\n",
       "      <th>Annual_Premium</th>\n",
       "      <th>Policy_Sales_Channel</th>\n",
       "      <th>Vintage</th>\n",
       "    </tr>\n",
       "  </thead>\n",
       "  <tbody>\n",
       "    <tr>\n",
       "      <th>id</th>\n",
       "      <td>1.000000</td>\n",
       "      <td>-0.026517</td>\n",
       "      <td>0.001759</td>\n",
       "      <td>0.014814</td>\n",
       "      <td>-0.004026</td>\n",
       "      <td>-0.001321</td>\n",
       "    </tr>\n",
       "    <tr>\n",
       "      <th>Age</th>\n",
       "      <td>-0.026517</td>\n",
       "      <td>1.000000</td>\n",
       "      <td>0.043728</td>\n",
       "      <td>0.065090</td>\n",
       "      <td>-0.582300</td>\n",
       "      <td>0.000669</td>\n",
       "    </tr>\n",
       "    <tr>\n",
       "      <th>Region_Code</th>\n",
       "      <td>0.001759</td>\n",
       "      <td>0.043728</td>\n",
       "      <td>1.000000</td>\n",
       "      <td>-0.010142</td>\n",
       "      <td>-0.041908</td>\n",
       "      <td>-0.000627</td>\n",
       "    </tr>\n",
       "    <tr>\n",
       "      <th>Annual_Premium</th>\n",
       "      <td>0.014814</td>\n",
       "      <td>0.065090</td>\n",
       "      <td>-0.010142</td>\n",
       "      <td>1.000000</td>\n",
       "      <td>-0.114864</td>\n",
       "      <td>-0.001349</td>\n",
       "    </tr>\n",
       "    <tr>\n",
       "      <th>Policy_Sales_Channel</th>\n",
       "      <td>-0.004026</td>\n",
       "      <td>-0.582300</td>\n",
       "      <td>-0.041908</td>\n",
       "      <td>-0.114864</td>\n",
       "      <td>1.000000</td>\n",
       "      <td>-0.001550</td>\n",
       "    </tr>\n",
       "    <tr>\n",
       "      <th>Vintage</th>\n",
       "      <td>-0.001321</td>\n",
       "      <td>0.000669</td>\n",
       "      <td>-0.000627</td>\n",
       "      <td>-0.001349</td>\n",
       "      <td>-0.001550</td>\n",
       "      <td>1.000000</td>\n",
       "    </tr>\n",
       "  </tbody>\n",
       "</table>\n",
       "</div>"
      ],
      "text/plain": [
       "                            id       Age  Region_Code  Annual_Premium  \\\n",
       "id                    1.000000 -0.026517     0.001759        0.014814   \n",
       "Age                  -0.026517  1.000000     0.043728        0.065090   \n",
       "Region_Code           0.001759  0.043728     1.000000       -0.010142   \n",
       "Annual_Premium        0.014814  0.065090    -0.010142        1.000000   \n",
       "Policy_Sales_Channel -0.004026 -0.582300    -0.041908       -0.114864   \n",
       "Vintage              -0.001321  0.000669    -0.000627       -0.001349   \n",
       "\n",
       "                      Policy_Sales_Channel   Vintage  \n",
       "id                               -0.004026 -0.001321  \n",
       "Age                              -0.582300  0.000669  \n",
       "Region_Code                      -0.041908 -0.000627  \n",
       "Annual_Premium                   -0.114864 -0.001349  \n",
       "Policy_Sales_Channel              1.000000 -0.001550  \n",
       "Vintage                          -0.001550  1.000000  "
      ]
     },
     "execution_count": 62,
     "metadata": {},
     "output_type": "execute_result"
    }
   ],
   "source": [
    "corr_matrix = dataset.corr()\n",
    "corr_matrix"
   ]
  },
  {
   "cell_type": "markdown",
   "id": "c0e172f9",
   "metadata": {},
   "source": [
    "Визуализируем (Чем светлее ячейка, тем сильнее корреляция)"
   ]
  },
  {
   "cell_type": "code",
   "execution_count": 63,
   "id": "f1b40fca",
   "metadata": {
    "scrolled": true
   },
   "outputs": [
    {
     "data": {
      "image/png": "[encoded data removed]",
      "text/plain": [
       "<Figure size 432x288 with 2 Axes>"
      ]
     },
     "metadata": {
      "needs_background": "light"
     },
     "output_type": "display_data"
    }
   ],
   "source": [
    "sns.heatmap(corr_matrix, square=True, cmap='coolwarm')\n",
    "pass"
   ]
  },
  {
   "cell_type": "code",
   "execution_count": 64,
   "id": "4783aa98",
   "metadata": {
    "scrolled": true
   },
   "outputs": [
    {
     "data": {
      "text/html": [
       "<div>\n",
       "<style scoped>\n",
       "    .dataframe tbody tr th:only-of-type {\n",
       "        vertical-align: middle;\n",
       "    }\n",
       "\n",
       "    .dataframe tbody tr th {\n",
       "        vertical-align: top;\n",
       "    }\n",
       "\n",
       "    .dataframe thead th {\n",
       "        text-align: right;\n",
       "    }\n",
       "</style>\n",
       "<table border=\"1\" class=\"dataframe\">\n",
       "  <thead>\n",
       "    <tr style=\"text-align: right;\">\n",
       "      <th></th>\n",
       "      <th>id</th>\n",
       "      <th>Age</th>\n",
       "      <th>Region_Code</th>\n",
       "      <th>Annual_Premium</th>\n",
       "      <th>Policy_Sales_Channel</th>\n",
       "      <th>Vintage</th>\n",
       "    </tr>\n",
       "  </thead>\n",
       "  <tbody>\n",
       "    <tr>\n",
       "      <th>id</th>\n",
       "      <td>True</td>\n",
       "      <td>False</td>\n",
       "      <td>False</td>\n",
       "      <td>False</td>\n",
       "      <td>False</td>\n",
       "      <td>False</td>\n",
       "    </tr>\n",
       "    <tr>\n",
       "      <th>Age</th>\n",
       "      <td>False</td>\n",
       "      <td>True</td>\n",
       "      <td>False</td>\n",
       "      <td>False</td>\n",
       "      <td>False</td>\n",
       "      <td>False</td>\n",
       "    </tr>\n",
       "    <tr>\n",
       "      <th>Region_Code</th>\n",
       "      <td>False</td>\n",
       "      <td>False</td>\n",
       "      <td>True</td>\n",
       "      <td>False</td>\n",
       "      <td>False</td>\n",
       "      <td>False</td>\n",
       "    </tr>\n",
       "    <tr>\n",
       "      <th>Annual_Premium</th>\n",
       "      <td>False</td>\n",
       "      <td>False</td>\n",
       "      <td>False</td>\n",
       "      <td>True</td>\n",
       "      <td>False</td>\n",
       "      <td>False</td>\n",
       "    </tr>\n",
       "    <tr>\n",
       "      <th>Policy_Sales_Channel</th>\n",
       "      <td>False</td>\n",
       "      <td>False</td>\n",
       "      <td>False</td>\n",
       "      <td>False</td>\n",
       "      <td>True</td>\n",
       "      <td>False</td>\n",
       "    </tr>\n",
       "    <tr>\n",
       "      <th>Vintage</th>\n",
       "      <td>False</td>\n",
       "      <td>False</td>\n",
       "      <td>False</td>\n",
       "      <td>False</td>\n",
       "      <td>False</td>\n",
       "      <td>True</td>\n",
       "    </tr>\n",
       "  </tbody>\n",
       "</table>\n",
       "</div>"
      ],
      "text/plain": [
       "                         id    Age  Region_Code  Annual_Premium  \\\n",
       "id                     True  False        False           False   \n",
       "Age                   False   True        False           False   \n",
       "Region_Code           False  False         True           False   \n",
       "Annual_Premium        False  False        False            True   \n",
       "Policy_Sales_Channel  False  False        False           False   \n",
       "Vintage               False  False        False           False   \n",
       "\n",
       "                      Policy_Sales_Channel  Vintage  \n",
       "id                                   False    False  \n",
       "Age                                  False    False  \n",
       "Region_Code                          False    False  \n",
       "Annual_Premium                       False    False  \n",
       "Policy_Sales_Channel                  True    False  \n",
       "Vintage                              False     True  "
      ]
     },
     "execution_count": 64,
     "metadata": {},
     "output_type": "execute_result"
    }
   ],
   "source": [
    "corr_matrix >0.2"
   ]
  },
  {
   "cell_type": "markdown",
   "id": "f54be7d2",
   "metadata": {},
   "source": [
    "Как мы видим, между показателями довольно слабые связи"
   ]
  },
  {
   "cell_type": "code",
   "execution_count": 65,
   "id": "1d4e544c",
   "metadata": {
    "scrolled": true
   },
   "outputs": [
    {
     "data": {
      "image/png": "[encoded data removed]",
      "text/plain": [
       "<Figure size 432x288 with 1 Axes>"
      ]
     },
     "metadata": {},
     "output_type": "display_data"
    }
   ],
   "source": [
    "plt.pie(dataset.Response.value_counts(), labels = [\"Subscribed\", \"Not subscribed\"], colors = sns.color_palette(\"hls\"), autopct = '%1.2f%%')\n",
    "pass"
   ]
  },
  {
   "cell_type": "markdown",
   "id": "eb1adcef",
   "metadata": {},
   "source": [
    "Как мы видим, выборка является **несбалансированной**"
   ]
  },
  {
   "cell_type": "code",
   "execution_count": 247,
   "id": "f89bd1e7",
   "metadata": {
    "scrolled": true
   },
   "outputs": [
    {
     "data": {
      "image/png": "[encoded data removed]",
      "text/plain": [
       "<Figure size 432x288 with 1 Axes>"
      ]
     },
     "metadata": {
      "needs_background": "light"
     },
     "output_type": "display_data"
    }
   ],
   "source": [
    "sns.distplot(dataset['Age'].values)\n",
    "pass"
   ]
  },
  {
   "cell_type": "code",
   "execution_count": 248,
   "id": "b9b99341",
   "metadata": {
    "scrolled": true
   },
   "outputs": [
    {
     "data": {
      "image/png": "[encoded data removed]",
      "text/plain": [
       "<Figure size 432x288 with 1 Axes>"
      ]
     },
     "metadata": {
      "needs_background": "light"
     },
     "output_type": "display_data"
    }
   ],
   "source": [
    "sns.distplot(dataset['Policy_Sales_Channel'].values)\n",
    "pass"
   ]
  },
  {
   "cell_type": "code",
   "execution_count": 249,
   "id": "b6c5cae3",
   "metadata": {
    "scrolled": true
   },
   "outputs": [
    {
     "data": {
      "image/png": "[encoded data removed]",
      "text/plain": [
       "<Figure size 432x288 with 1 Axes>"
      ]
     },
     "metadata": {
      "needs_background": "light"
     },
     "output_type": "display_data"
    }
   ],
   "source": [
    "sns.distplot(dataset['Vintage'].values)\n",
    "pass"
   ]
  },
  {
   "cell_type": "markdown",
   "id": "3b4f4d20",
   "metadata": {},
   "source": [
    "как мы видим рассматриваются люди с страховым полисом от 10 до 299 дней"
   ]
  },
  {
   "cell_type": "markdown",
   "id": "979fffd5",
   "metadata": {},
   "source": [
    "## Обработка категориальных признаков"
   ]
  },
  {
   "cell_type": "code",
   "execution_count": 66,
   "id": "78308148",
   "metadata": {
    "scrolled": true
   },
   "outputs": [
    {
     "name": "stdout",
     "output_type": "stream",
     "text": [
      "['Gender', 'Driving_License', 'Previously_Insured', 'Vehicle_Age', 'Vehicle_Damage', 'Response']\n",
      "['id', 'Age', 'Region_Code', 'Annual_Premium', 'Policy_Sales_Channel', 'Vintage']\n"
     ]
    }
   ],
   "source": [
    "categorical_columns = [c for c in dataset.columns if dataset[c].dtype.name == 'category']\n",
    "numerical_columns   = [c for c in dataset.columns if dataset[c].dtype.name != 'category']\n",
    "print(categorical_columns)\n",
    "print(numerical_columns)"
   ]
  },
  {
   "cell_type": "code",
   "execution_count": 67,
   "id": "31f8a4b8",
   "metadata": {
    "scrolled": true
   },
   "outputs": [
    {
     "name": "stdout",
     "output_type": "stream",
     "text": [
      "Gender ['Male', 'Female']\n",
      "Categories (2, object): ['Male', 'Female']\n",
      "Driving_License [1, 0]\n",
      "Categories (2, int64): [1, 0]\n",
      "Previously_Insured [1, 0]\n",
      "Categories (2, int64): [1, 0]\n",
      "Vehicle_Age ['< 1 Year', '1-2 Year', '> 2 Years']\n",
      "Categories (3, object): ['< 1 Year', '1-2 Year', '> 2 Years']\n",
      "Vehicle_Damage ['No', 'Yes']\n",
      "Categories (2, object): ['No', 'Yes']\n",
      "Response [0, 1]\n",
      "Categories (2, int64): [0, 1]\n"
     ]
    }
   ],
   "source": [
    "for c in categorical_columns:\n",
    "    print(c, dataset[c].unique())"
   ]
  },
  {
   "cell_type": "code",
   "execution_count": 68,
   "id": "029df729",
   "metadata": {
    "scrolled": true
   },
   "outputs": [
    {
     "name": "stdout",
     "output_type": "stream",
     "text": [
      "['Gender', 'Driving_License', 'Previously_Insured', 'Vehicle_Damage', 'Response'] ['Vehicle_Age']\n"
     ]
    }
   ],
   "source": [
    "data_describe = dataset.describe(include = ['category'])\n",
    "binary_columns    = [c for c in categorical_columns if data_describe[c]['unique'] == 2]\n",
    "nonbinary_columns = [c for c in categorical_columns if data_describe[c]['unique'] > 2]\n",
    "print(binary_columns, nonbinary_columns)"
   ]
  },
  {
   "cell_type": "code",
   "execution_count": 69,
   "id": "9acdad3c",
   "metadata": {
    "scrolled": true
   },
   "outputs": [
    {
     "data": {
      "text/plain": [
       "id                      0\n",
       "Gender                  0\n",
       "Age                     0\n",
       "Driving_License         0\n",
       "Region_Code             0\n",
       "Previously_Insured      0\n",
       "Vehicle_Age             0\n",
       "Vehicle_Damage          0\n",
       "Annual_Premium          0\n",
       "Policy_Sales_Channel    0\n",
       "Vintage                 0\n",
       "Response                0\n",
       "dtype: int64"
      ]
     },
     "execution_count": 69,
     "metadata": {},
     "output_type": "execute_result"
    }
   ],
   "source": [
    "dataset.isna().sum()  "
   ]
  },
  {
   "cell_type": "markdown",
   "id": "34b82a56",
   "metadata": {},
   "source": [
    "Пропущенных значений нет"
   ]
  },
  {
   "cell_type": "code",
   "execution_count": 70,
   "id": "11c78261",
   "metadata": {
    "scrolled": true
   },
   "outputs": [
    {
     "name": "stdout",
     "output_type": "stream",
     "text": [
      "Index(['Vehicle_Age_1-2 Year', 'Vehicle_Age_< 1 Year',\n",
      "       'Vehicle_Age_> 2 Years'],\n",
      "      dtype='object')\n"
     ]
    }
   ],
   "source": [
    "data_nonbinary = pd.get_dummies(dataset[nonbinary_columns])\n",
    "print(data_nonbinary.columns)"
   ]
  },
  {
   "cell_type": "code",
   "execution_count": 71,
   "id": "32543558",
   "metadata": {
    "scrolled": true
   },
   "outputs": [
    {
     "data": {
      "text/plain": [
       "count     382154\n",
       "unique         2\n",
       "top            0\n",
       "freq      205603\n",
       "Name: Gender, dtype: int64"
      ]
     },
     "execution_count": 71,
     "metadata": {},
     "output_type": "execute_result"
    }
   ],
   "source": [
    "for col_num in binary_columns:\n",
    "    dataset[col_num] = dataset[col_num].astype(object)\n",
    "\n",
    "dataset.at[dataset['Gender'] == 'Male', 'Gender'] = 0\n",
    "dataset.at[dataset['Gender'] == 'Female', 'Gender'] = 1\n",
    "\n",
    "dataset.at[dataset['Vehicle_Damage'] == 'No', 'Vehicle_Damage'] = 0\n",
    "dataset.at[dataset['Vehicle_Damage'] == 'Yes', 'Vehicle_Damage'] = 1\n",
    "\n",
    "for col_num in binary_columns:\n",
    "    dataset[col_num] = dataset[col_num].astype('category')\n",
    "dataset['Gender'].describe()"
   ]
  },
  {
   "cell_type": "code",
   "execution_count": 72,
   "id": "3ea30b8f",
   "metadata": {
    "scrolled": true
   },
   "outputs": [
    {
     "data": {
      "text/plain": [
       "count     382154\n",
       "unique         2\n",
       "top            0\n",
       "freq      198501\n",
       "Name: Vehicle_Damage, dtype: int64"
      ]
     },
     "execution_count": 72,
     "metadata": {},
     "output_type": "execute_result"
    }
   ],
   "source": [
    "dataset['Vehicle_Damage'].describe()"
   ]
  },
  {
   "cell_type": "code",
   "execution_count": 73,
   "id": "2746a78b",
   "metadata": {
    "scrolled": true
   },
   "outputs": [
    {
     "data": {
      "text/html": [
       "<div>\n",
       "<style scoped>\n",
       "    .dataframe tbody tr th:only-of-type {\n",
       "        vertical-align: middle;\n",
       "    }\n",
       "\n",
       "    .dataframe tbody tr th {\n",
       "        vertical-align: top;\n",
       "    }\n",
       "\n",
       "    .dataframe thead th {\n",
       "        text-align: right;\n",
       "    }\n",
       "</style>\n",
       "<table border=\"1\" class=\"dataframe\">\n",
       "  <thead>\n",
       "    <tr style=\"text-align: right;\">\n",
       "      <th></th>\n",
       "      <th>Vehicle_Age</th>\n",
       "    </tr>\n",
       "  </thead>\n",
       "  <tbody>\n",
       "    <tr>\n",
       "      <th>0</th>\n",
       "      <td>&lt; 1 Year</td>\n",
       "    </tr>\n",
       "    <tr>\n",
       "      <th>1</th>\n",
       "      <td>1-2 Year</td>\n",
       "    </tr>\n",
       "    <tr>\n",
       "      <th>2</th>\n",
       "      <td>1-2 Year</td>\n",
       "    </tr>\n",
       "    <tr>\n",
       "      <th>3</th>\n",
       "      <td>&lt; 1 Year</td>\n",
       "    </tr>\n",
       "    <tr>\n",
       "      <th>4</th>\n",
       "      <td>&lt; 1 Year</td>\n",
       "    </tr>\n",
       "    <tr>\n",
       "      <th>...</th>\n",
       "      <td>...</td>\n",
       "    </tr>\n",
       "    <tr>\n",
       "      <th>382149</th>\n",
       "      <td>&lt; 1 Year</td>\n",
       "    </tr>\n",
       "    <tr>\n",
       "      <th>382150</th>\n",
       "      <td>&lt; 1 Year</td>\n",
       "    </tr>\n",
       "    <tr>\n",
       "      <th>382151</th>\n",
       "      <td>1-2 Year</td>\n",
       "    </tr>\n",
       "    <tr>\n",
       "      <th>382152</th>\n",
       "      <td>&lt; 1 Year</td>\n",
       "    </tr>\n",
       "    <tr>\n",
       "      <th>382153</th>\n",
       "      <td>&lt; 1 Year</td>\n",
       "    </tr>\n",
       "  </tbody>\n",
       "</table>\n",
       "<p>382154 rows × 1 columns</p>\n",
       "</div>"
      ],
      "text/plain": [
       "       Vehicle_Age\n",
       "0         < 1 Year\n",
       "1         1-2 Year\n",
       "2         1-2 Year\n",
       "3         < 1 Year\n",
       "4         < 1 Year\n",
       "...            ...\n",
       "382149    < 1 Year\n",
       "382150    < 1 Year\n",
       "382151    1-2 Year\n",
       "382152    < 1 Year\n",
       "382153    < 1 Year\n",
       "\n",
       "[382154 rows x 1 columns]"
      ]
     },
     "execution_count": 73,
     "metadata": {},
     "output_type": "execute_result"
    }
   ],
   "source": [
    "dataset[nonbinary_columns]"
   ]
  },
  {
   "cell_type": "code",
   "execution_count": 74,
   "id": "f09db690",
   "metadata": {
    "scrolled": true
   },
   "outputs": [
    {
     "data": {
      "text/html": [
       "<div>\n",
       "<style scoped>\n",
       "    .dataframe tbody tr th:only-of-type {\n",
       "        vertical-align: middle;\n",
       "    }\n",
       "\n",
       "    .dataframe tbody tr th {\n",
       "        vertical-align: top;\n",
       "    }\n",
       "\n",
       "    .dataframe thead th {\n",
       "        text-align: right;\n",
       "    }\n",
       "</style>\n",
       "<table border=\"1\" class=\"dataframe\">\n",
       "  <thead>\n",
       "    <tr style=\"text-align: right;\">\n",
       "      <th></th>\n",
       "      <th>Gender</th>\n",
       "      <th>Driving_License</th>\n",
       "      <th>Previously_Insured</th>\n",
       "      <th>Vehicle_Damage</th>\n",
       "      <th>Response</th>\n",
       "    </tr>\n",
       "  </thead>\n",
       "  <tbody>\n",
       "    <tr>\n",
       "      <th>0</th>\n",
       "      <td>0</td>\n",
       "      <td>1</td>\n",
       "      <td>1</td>\n",
       "      <td>0</td>\n",
       "      <td>0</td>\n",
       "    </tr>\n",
       "    <tr>\n",
       "      <th>1</th>\n",
       "      <td>0</td>\n",
       "      <td>1</td>\n",
       "      <td>0</td>\n",
       "      <td>1</td>\n",
       "      <td>0</td>\n",
       "    </tr>\n",
       "    <tr>\n",
       "      <th>2</th>\n",
       "      <td>1</td>\n",
       "      <td>1</td>\n",
       "      <td>0</td>\n",
       "      <td>1</td>\n",
       "      <td>0</td>\n",
       "    </tr>\n",
       "    <tr>\n",
       "      <th>3</th>\n",
       "      <td>1</td>\n",
       "      <td>1</td>\n",
       "      <td>0</td>\n",
       "      <td>0</td>\n",
       "      <td>0</td>\n",
       "    </tr>\n",
       "    <tr>\n",
       "      <th>4</th>\n",
       "      <td>0</td>\n",
       "      <td>1</td>\n",
       "      <td>1</td>\n",
       "      <td>0</td>\n",
       "      <td>0</td>\n",
       "    </tr>\n",
       "    <tr>\n",
       "      <th>...</th>\n",
       "      <td>...</td>\n",
       "      <td>...</td>\n",
       "      <td>...</td>\n",
       "      <td>...</td>\n",
       "      <td>...</td>\n",
       "    </tr>\n",
       "    <tr>\n",
       "      <th>382149</th>\n",
       "      <td>0</td>\n",
       "      <td>1</td>\n",
       "      <td>0</td>\n",
       "      <td>1</td>\n",
       "      <td>0</td>\n",
       "    </tr>\n",
       "    <tr>\n",
       "      <th>382150</th>\n",
       "      <td>0</td>\n",
       "      <td>1</td>\n",
       "      <td>1</td>\n",
       "      <td>0</td>\n",
       "      <td>0</td>\n",
       "    </tr>\n",
       "    <tr>\n",
       "      <th>382151</th>\n",
       "      <td>0</td>\n",
       "      <td>1</td>\n",
       "      <td>0</td>\n",
       "      <td>1</td>\n",
       "      <td>0</td>\n",
       "    </tr>\n",
       "    <tr>\n",
       "      <th>382152</th>\n",
       "      <td>1</td>\n",
       "      <td>1</td>\n",
       "      <td>1</td>\n",
       "      <td>0</td>\n",
       "      <td>0</td>\n",
       "    </tr>\n",
       "    <tr>\n",
       "      <th>382153</th>\n",
       "      <td>1</td>\n",
       "      <td>1</td>\n",
       "      <td>1</td>\n",
       "      <td>0</td>\n",
       "      <td>0</td>\n",
       "    </tr>\n",
       "  </tbody>\n",
       "</table>\n",
       "<p>382154 rows × 5 columns</p>\n",
       "</div>"
      ],
      "text/plain": [
       "       Gender Driving_License Previously_Insured Vehicle_Damage Response\n",
       "0           0               1                  1              0        0\n",
       "1           0               1                  0              1        0\n",
       "2           1               1                  0              1        0\n",
       "3           1               1                  0              0        0\n",
       "4           0               1                  1              0        0\n",
       "...       ...             ...                ...            ...      ...\n",
       "382149      0               1                  0              1        0\n",
       "382150      0               1                  1              0        0\n",
       "382151      0               1                  0              1        0\n",
       "382152      1               1                  1              0        0\n",
       "382153      1               1                  1              0        0\n",
       "\n",
       "[382154 rows x 5 columns]"
      ]
     },
     "execution_count": 74,
     "metadata": {},
     "output_type": "execute_result"
    }
   ],
   "source": [
    "dataset[binary_columns]"
   ]
  },
  {
   "cell_type": "code",
   "execution_count": 75,
   "id": "418c55f7",
   "metadata": {
    "scrolled": true
   },
   "outputs": [
    {
     "name": "stdout",
     "output_type": "stream",
     "text": [
      "   Vehicle_Age_1-2 Year  Vehicle_Age_< 1 Year  Vehicle_Age_> 2 Years\n",
      "0                     0                     1                      0\n",
      "1                     1                     0                      0\n",
      "2                     1                     0                      0\n",
      "3                     0                     1                      0\n",
      "4                     0                     1                      0\n"
     ]
    }
   ],
   "source": [
    "print(data_nonbinary.head())"
   ]
  },
  {
   "cell_type": "code",
   "execution_count": 76,
   "id": "0e331b1a",
   "metadata": {
    "scrolled": true
   },
   "outputs": [
    {
     "data": {
      "text/plain": [
       "3"
      ]
     },
     "execution_count": 76,
     "metadata": {},
     "output_type": "execute_result"
    }
   ],
   "source": [
    "len(data_nonbinary.columns)"
   ]
  },
  {
   "cell_type": "markdown",
   "id": "f2f36014",
   "metadata": {},
   "source": [
    "### Нормализация количественных признаков"
   ]
  },
  {
   "cell_type": "code",
   "execution_count": 77,
   "id": "646c2c88",
   "metadata": {
    "scrolled": true
   },
   "outputs": [
    {
     "data": {
      "text/html": [
       "<div>\n",
       "<style scoped>\n",
       "    .dataframe tbody tr th:only-of-type {\n",
       "        vertical-align: middle;\n",
       "    }\n",
       "\n",
       "    .dataframe tbody tr th {\n",
       "        vertical-align: top;\n",
       "    }\n",
       "\n",
       "    .dataframe thead th {\n",
       "        text-align: right;\n",
       "    }\n",
       "</style>\n",
       "<table border=\"1\" class=\"dataframe\">\n",
       "  <thead>\n",
       "    <tr style=\"text-align: right;\">\n",
       "      <th></th>\n",
       "      <th>id</th>\n",
       "      <th>Age</th>\n",
       "      <th>Region_Code</th>\n",
       "      <th>Annual_Premium</th>\n",
       "      <th>Policy_Sales_Channel</th>\n",
       "      <th>Vintage</th>\n",
       "    </tr>\n",
       "  </thead>\n",
       "  <tbody>\n",
       "    <tr>\n",
       "      <th>count</th>\n",
       "      <td>382154.000000</td>\n",
       "      <td>382154.000000</td>\n",
       "      <td>382154.000000</td>\n",
       "      <td>382154.000000</td>\n",
       "      <td>382154.000000</td>\n",
       "      <td>382154.000000</td>\n",
       "    </tr>\n",
       "    <tr>\n",
       "      <th>mean</th>\n",
       "      <td>234392.953477</td>\n",
       "      <td>38.545691</td>\n",
       "      <td>26.406867</td>\n",
       "      <td>30711.271362</td>\n",
       "      <td>111.939812</td>\n",
       "      <td>154.189429</td>\n",
       "    </tr>\n",
       "    <tr>\n",
       "      <th>std</th>\n",
       "      <td>139527.487326</td>\n",
       "      <td>15.226897</td>\n",
       "      <td>13.181241</td>\n",
       "      <td>17061.595532</td>\n",
       "      <td>54.286511</td>\n",
       "      <td>83.735107</td>\n",
       "    </tr>\n",
       "    <tr>\n",
       "      <th>min</th>\n",
       "      <td>1.000000</td>\n",
       "      <td>20.000000</td>\n",
       "      <td>0.000000</td>\n",
       "      <td>2630.000000</td>\n",
       "      <td>1.000000</td>\n",
       "      <td>10.000000</td>\n",
       "    </tr>\n",
       "    <tr>\n",
       "      <th>25%</th>\n",
       "      <td>115006.250000</td>\n",
       "      <td>25.000000</td>\n",
       "      <td>15.000000</td>\n",
       "      <td>24546.000000</td>\n",
       "      <td>26.000000</td>\n",
       "      <td>81.000000</td>\n",
       "    </tr>\n",
       "    <tr>\n",
       "      <th>50%</th>\n",
       "      <td>230461.500000</td>\n",
       "      <td>36.000000</td>\n",
       "      <td>28.000000</td>\n",
       "      <td>31692.000000</td>\n",
       "      <td>145.000000</td>\n",
       "      <td>154.000000</td>\n",
       "    </tr>\n",
       "    <tr>\n",
       "      <th>75%</th>\n",
       "      <td>345434.750000</td>\n",
       "      <td>49.000000</td>\n",
       "      <td>35.000000</td>\n",
       "      <td>39447.750000</td>\n",
       "      <td>152.000000</td>\n",
       "      <td>227.000000</td>\n",
       "    </tr>\n",
       "    <tr>\n",
       "      <th>max</th>\n",
       "      <td>508145.000000</td>\n",
       "      <td>85.000000</td>\n",
       "      <td>52.000000</td>\n",
       "      <td>540165.000000</td>\n",
       "      <td>163.000000</td>\n",
       "      <td>299.000000</td>\n",
       "    </tr>\n",
       "  </tbody>\n",
       "</table>\n",
       "</div>"
      ],
      "text/plain": [
       "                  id            Age    Region_Code  Annual_Premium  \\\n",
       "count  382154.000000  382154.000000  382154.000000   382154.000000   \n",
       "mean   234392.953477      38.545691      26.406867    30711.271362   \n",
       "std    139527.487326      15.226897      13.181241    17061.595532   \n",
       "min         1.000000      20.000000       0.000000     2630.000000   \n",
       "25%    115006.250000      25.000000      15.000000    24546.000000   \n",
       "50%    230461.500000      36.000000      28.000000    31692.000000   \n",
       "75%    345434.750000      49.000000      35.000000    39447.750000   \n",
       "max    508145.000000      85.000000      52.000000   540165.000000   \n",
       "\n",
       "       Policy_Sales_Channel        Vintage  \n",
       "count         382154.000000  382154.000000  \n",
       "mean             111.939812     154.189429  \n",
       "std               54.286511      83.735107  \n",
       "min                1.000000      10.000000  \n",
       "25%               26.000000      81.000000  \n",
       "50%              145.000000     154.000000  \n",
       "75%              152.000000     227.000000  \n",
       "max              163.000000     299.000000  "
      ]
     },
     "execution_count": 77,
     "metadata": {},
     "output_type": "execute_result"
    }
   ],
   "source": [
    "data_numerical = dataset[numerical_columns]\n",
    "data_numerical.describe()"
   ]
  },
  {
   "cell_type": "markdown",
   "id": "af06a79c",
   "metadata": {},
   "source": [
    "Каждый количественный признак приведем к нулевому среднему и единичному среднеквадратичному отклонению"
   ]
  },
  {
   "cell_type": "code",
   "execution_count": 78,
   "id": "1379bf0b",
   "metadata": {
    "scrolled": true
   },
   "outputs": [
    {
     "data": {
      "text/html": [
       "<div>\n",
       "<style scoped>\n",
       "    .dataframe tbody tr th:only-of-type {\n",
       "        vertical-align: middle;\n",
       "    }\n",
       "\n",
       "    .dataframe tbody tr th {\n",
       "        vertical-align: top;\n",
       "    }\n",
       "\n",
       "    .dataframe thead th {\n",
       "        text-align: right;\n",
       "    }\n",
       "</style>\n",
       "<table border=\"1\" class=\"dataframe\">\n",
       "  <thead>\n",
       "    <tr style=\"text-align: right;\">\n",
       "      <th></th>\n",
       "      <th>id</th>\n",
       "      <th>Age</th>\n",
       "      <th>Region_Code</th>\n",
       "      <th>Annual_Premium</th>\n",
       "      <th>Policy_Sales_Channel</th>\n",
       "      <th>Vintage</th>\n",
       "    </tr>\n",
       "  </thead>\n",
       "  <tbody>\n",
       "    <tr>\n",
       "      <th>count</th>\n",
       "      <td>3.821540e+05</td>\n",
       "      <td>3.821540e+05</td>\n",
       "      <td>3.821540e+05</td>\n",
       "      <td>3.821540e+05</td>\n",
       "      <td>3.821540e+05</td>\n",
       "      <td>3.821540e+05</td>\n",
       "    </tr>\n",
       "    <tr>\n",
       "      <th>mean</th>\n",
       "      <td>2.786989e-17</td>\n",
       "      <td>4.698793e-16</td>\n",
       "      <td>-4.686667e-15</td>\n",
       "      <td>-1.131573e-15</td>\n",
       "      <td>-5.982504e-16</td>\n",
       "      <td>1.297682e-16</td>\n",
       "    </tr>\n",
       "    <tr>\n",
       "      <th>std</th>\n",
       "      <td>1.000000e+00</td>\n",
       "      <td>1.000000e+00</td>\n",
       "      <td>1.000000e+00</td>\n",
       "      <td>1.000000e+00</td>\n",
       "      <td>1.000000e+00</td>\n",
       "      <td>1.000000e+00</td>\n",
       "    </tr>\n",
       "    <tr>\n",
       "      <th>min</th>\n",
       "      <td>-1.679898e+00</td>\n",
       "      <td>-1.217956e+00</td>\n",
       "      <td>-2.003367e+00</td>\n",
       "      <td>-1.645876e+00</td>\n",
       "      <td>-2.043598e+00</td>\n",
       "      <td>-1.721971e+00</td>\n",
       "    </tr>\n",
       "    <tr>\n",
       "      <th>25%</th>\n",
       "      <td>-8.556501e-01</td>\n",
       "      <td>-8.895897e-01</td>\n",
       "      <td>-8.653865e-01</td>\n",
       "      <td>-3.613537e-01</td>\n",
       "      <td>-1.583079e+00</td>\n",
       "      <td>-8.740591e-01</td>\n",
       "    </tr>\n",
       "    <tr>\n",
       "      <th>50%</th>\n",
       "      <td>-2.817691e-02</td>\n",
       "      <td>-1.671838e-01</td>\n",
       "      <td>1.208636e-01</td>\n",
       "      <td>5.748165e-02</td>\n",
       "      <td>6.089945e-01</td>\n",
       "      <td>-2.262240e-03</td>\n",
       "    </tr>\n",
       "    <tr>\n",
       "      <th>75%</th>\n",
       "      <td>7.958417e-01</td>\n",
       "      <td>6.865686e-01</td>\n",
       "      <td>6.519214e-01</td>\n",
       "      <td>5.120552e-01</td>\n",
       "      <td>7.379400e-01</td>\n",
       "      <td>8.695346e-01</td>\n",
       "    </tr>\n",
       "    <tr>\n",
       "      <th>max</th>\n",
       "      <td>1.961994e+00</td>\n",
       "      <td>3.050806e+00</td>\n",
       "      <td>1.941633e+00</td>\n",
       "      <td>2.985968e+01</td>\n",
       "      <td>9.405686e-01</td>\n",
       "      <td>1.729389e+00</td>\n",
       "    </tr>\n",
       "  </tbody>\n",
       "</table>\n",
       "</div>"
      ],
      "text/plain": [
       "                 id           Age   Region_Code  Annual_Premium  \\\n",
       "count  3.821540e+05  3.821540e+05  3.821540e+05    3.821540e+05   \n",
       "mean   2.786989e-17  4.698793e-16 -4.686667e-15   -1.131573e-15   \n",
       "std    1.000000e+00  1.000000e+00  1.000000e+00    1.000000e+00   \n",
       "min   -1.679898e+00 -1.217956e+00 -2.003367e+00   -1.645876e+00   \n",
       "25%   -8.556501e-01 -8.895897e-01 -8.653865e-01   -3.613537e-01   \n",
       "50%   -2.817691e-02 -1.671838e-01  1.208636e-01    5.748165e-02   \n",
       "75%    7.958417e-01  6.865686e-01  6.519214e-01    5.120552e-01   \n",
       "max    1.961994e+00  3.050806e+00  1.941633e+00    2.985968e+01   \n",
       "\n",
       "       Policy_Sales_Channel       Vintage  \n",
       "count          3.821540e+05  3.821540e+05  \n",
       "mean          -5.982504e-16  1.297682e-16  \n",
       "std            1.000000e+00  1.000000e+00  \n",
       "min           -2.043598e+00 -1.721971e+00  \n",
       "25%           -1.583079e+00 -8.740591e-01  \n",
       "50%            6.089945e-01 -2.262240e-03  \n",
       "75%            7.379400e-01  8.695346e-01  \n",
       "max            9.405686e-01  1.729389e+00  "
      ]
     },
     "execution_count": 78,
     "metadata": {},
     "output_type": "execute_result"
    }
   ],
   "source": [
    "data_numerical = (data_numerical - data_numerical.mean(axis = 0))/data_numerical.std(axis = 0)\n",
    "data_numerical.describe()"
   ]
  },
  {
   "cell_type": "code",
   "execution_count": 79,
   "id": "4e04179c",
   "metadata": {
    "scrolled": true
   },
   "outputs": [
    {
     "data": {
      "text/html": [
       "<div>\n",
       "<style scoped>\n",
       "    .dataframe tbody tr th:only-of-type {\n",
       "        vertical-align: middle;\n",
       "    }\n",
       "\n",
       "    .dataframe tbody tr th {\n",
       "        vertical-align: top;\n",
       "    }\n",
       "\n",
       "    .dataframe thead th {\n",
       "        text-align: right;\n",
       "    }\n",
       "</style>\n",
       "<table border=\"1\" class=\"dataframe\">\n",
       "  <thead>\n",
       "    <tr style=\"text-align: right;\">\n",
       "      <th></th>\n",
       "      <th>Gender</th>\n",
       "      <th>Driving_License</th>\n",
       "      <th>Previously_Insured</th>\n",
       "      <th>Vehicle_Damage</th>\n",
       "      <th>Response</th>\n",
       "    </tr>\n",
       "  </thead>\n",
       "  <tbody>\n",
       "    <tr>\n",
       "      <th>count</th>\n",
       "      <td>382154</td>\n",
       "      <td>382154</td>\n",
       "      <td>382154</td>\n",
       "      <td>382154</td>\n",
       "      <td>382154</td>\n",
       "    </tr>\n",
       "    <tr>\n",
       "      <th>unique</th>\n",
       "      <td>2</td>\n",
       "      <td>2</td>\n",
       "      <td>2</td>\n",
       "      <td>2</td>\n",
       "      <td>2</td>\n",
       "    </tr>\n",
       "    <tr>\n",
       "      <th>top</th>\n",
       "      <td>0</td>\n",
       "      <td>1</td>\n",
       "      <td>0</td>\n",
       "      <td>0</td>\n",
       "      <td>0</td>\n",
       "    </tr>\n",
       "    <tr>\n",
       "      <th>freq</th>\n",
       "      <td>205603</td>\n",
       "      <td>381431</td>\n",
       "      <td>195211</td>\n",
       "      <td>198501</td>\n",
       "      <td>319553</td>\n",
       "    </tr>\n",
       "  </tbody>\n",
       "</table>\n",
       "</div>"
      ],
      "text/plain": [
       "        Gender  Driving_License  Previously_Insured  Vehicle_Damage  Response\n",
       "count   382154           382154              382154          382154    382154\n",
       "unique       2                2                   2               2         2\n",
       "top          0                1                   0               0         0\n",
       "freq    205603           381431              195211          198501    319553"
      ]
     },
     "execution_count": 79,
     "metadata": {},
     "output_type": "execute_result"
    }
   ],
   "source": [
    "dataset[binary_columns].describe()"
   ]
  },
  {
   "cell_type": "markdown",
   "id": "3a57cd07",
   "metadata": {},
   "source": [
    "## Объединим все таблицы в одну"
   ]
  },
  {
   "cell_type": "code",
   "execution_count": 80,
   "id": "a9d8792e",
   "metadata": {
    "scrolled": true
   },
   "outputs": [],
   "source": [
    "data = pd.concat((data_numerical, data_nonbinary, dataset[binary_columns]), axis = 1)"
   ]
  },
  {
   "cell_type": "code",
   "execution_count": 81,
   "id": "0a895e6b",
   "metadata": {
    "scrolled": true
   },
   "outputs": [
    {
     "data": {
      "text/html": [
       "<div>\n",
       "<style scoped>\n",
       "    .dataframe tbody tr th:only-of-type {\n",
       "        vertical-align: middle;\n",
       "    }\n",
       "\n",
       "    .dataframe tbody tr th {\n",
       "        vertical-align: top;\n",
       "    }\n",
       "\n",
       "    .dataframe thead th {\n",
       "        text-align: right;\n",
       "    }\n",
       "</style>\n",
       "<table border=\"1\" class=\"dataframe\">\n",
       "  <thead>\n",
       "    <tr style=\"text-align: right;\">\n",
       "      <th></th>\n",
       "      <th>id</th>\n",
       "      <th>Age</th>\n",
       "      <th>Region_Code</th>\n",
       "      <th>Annual_Premium</th>\n",
       "      <th>Policy_Sales_Channel</th>\n",
       "      <th>Vintage</th>\n",
       "      <th>Vehicle_Age_1-2 Year</th>\n",
       "      <th>Vehicle_Age_&lt; 1 Year</th>\n",
       "      <th>Vehicle_Age_&gt; 2 Years</th>\n",
       "      <th>Gender</th>\n",
       "      <th>Driving_License</th>\n",
       "      <th>Previously_Insured</th>\n",
       "      <th>Vehicle_Damage</th>\n",
       "      <th>Response</th>\n",
       "    </tr>\n",
       "  </thead>\n",
       "  <tbody>\n",
       "    <tr>\n",
       "      <th>0</th>\n",
       "      <td>-0.478371</td>\n",
       "      <td>-1.086610</td>\n",
       "      <td>-1.472310</td>\n",
       "      <td>-1.645876</td>\n",
       "      <td>0.737940</td>\n",
       "      <td>-1.650317</td>\n",
       "      <td>0</td>\n",
       "      <td>1</td>\n",
       "      <td>0</td>\n",
       "      <td>0</td>\n",
       "      <td>1</td>\n",
       "      <td>1</td>\n",
       "      <td>0</td>\n",
       "      <td>0</td>\n",
       "    </tr>\n",
       "    <tr>\n",
       "      <th>1</th>\n",
       "      <td>-1.556897</td>\n",
       "      <td>0.226856</td>\n",
       "      <td>0.120864</td>\n",
       "      <td>0.739423</td>\n",
       "      <td>-1.583079</td>\n",
       "      <td>-0.229168</td>\n",
       "      <td>1</td>\n",
       "      <td>0</td>\n",
       "      <td>0</td>\n",
       "      <td>0</td>\n",
       "      <td>1</td>\n",
       "      <td>0</td>\n",
       "      <td>1</td>\n",
       "      <td>0</td>\n",
       "    </tr>\n",
       "    <tr>\n",
       "      <th>2</th>\n",
       "      <td>-1.450395</td>\n",
       "      <td>1.803014</td>\n",
       "      <td>0.500191</td>\n",
       "      <td>0.300659</td>\n",
       "      <td>0.222158</td>\n",
       "      <td>1.180038</td>\n",
       "      <td>1</td>\n",
       "      <td>0</td>\n",
       "      <td>0</td>\n",
       "      <td>1</td>\n",
       "      <td>1</td>\n",
       "      <td>0</td>\n",
       "      <td>1</td>\n",
       "      <td>0</td>\n",
       "    </tr>\n",
       "    <tr>\n",
       "      <th>3</th>\n",
       "      <td>-1.053168</td>\n",
       "      <td>-1.086610</td>\n",
       "      <td>0.500191</td>\n",
       "      <td>-0.179718</td>\n",
       "      <td>0.737940</td>\n",
       "      <td>-1.017368</td>\n",
       "      <td>0</td>\n",
       "      <td>1</td>\n",
       "      <td>0</td>\n",
       "      <td>1</td>\n",
       "      <td>1</td>\n",
       "      <td>0</td>\n",
       "      <td>0</td>\n",
       "      <td>0</td>\n",
       "    </tr>\n",
       "    <tr>\n",
       "      <th>4</th>\n",
       "      <td>1.917472</td>\n",
       "      <td>-0.692570</td>\n",
       "      <td>1.486441</td>\n",
       "      <td>-0.098952</td>\n",
       "      <td>0.737940</td>\n",
       "      <td>0.678456</td>\n",
       "      <td>0</td>\n",
       "      <td>1</td>\n",
       "      <td>0</td>\n",
       "      <td>0</td>\n",
       "      <td>1</td>\n",
       "      <td>1</td>\n",
       "      <td>0</td>\n",
       "      <td>0</td>\n",
       "    </tr>\n",
       "  </tbody>\n",
       "</table>\n",
       "</div>"
      ],
      "text/plain": [
       "         id       Age  Region_Code  Annual_Premium  Policy_Sales_Channel  \\\n",
       "0 -0.478371 -1.086610    -1.472310       -1.645876              0.737940   \n",
       "1 -1.556897  0.226856     0.120864        0.739423             -1.583079   \n",
       "2 -1.450395  1.803014     0.500191        0.300659              0.222158   \n",
       "3 -1.053168 -1.086610     0.500191       -0.179718              0.737940   \n",
       "4  1.917472 -0.692570     1.486441       -0.098952              0.737940   \n",
       "\n",
       "    Vintage  Vehicle_Age_1-2 Year  Vehicle_Age_< 1 Year  \\\n",
       "0 -1.650317                     0                     1   \n",
       "1 -0.229168                     1                     0   \n",
       "2  1.180038                     1                     0   \n",
       "3 -1.017368                     0                     1   \n",
       "4  0.678456                     0                     1   \n",
       "\n",
       "   Vehicle_Age_> 2 Years Gender Driving_License Previously_Insured  \\\n",
       "0                      0      0               1                  1   \n",
       "1                      0      0               1                  0   \n",
       "2                      0      1               1                  0   \n",
       "3                      0      1               1                  0   \n",
       "4                      0      0               1                  1   \n",
       "\n",
       "  Vehicle_Damage Response  \n",
       "0              0        0  \n",
       "1              1        0  \n",
       "2              1        0  \n",
       "3              0        0  \n",
       "4              0        0  "
      ]
     },
     "execution_count": 81,
     "metadata": {},
     "output_type": "execute_result"
    }
   ],
   "source": [
    "data.head()"
   ]
  },
  {
   "cell_type": "code",
   "execution_count": 82,
   "id": "08edf9bb",
   "metadata": {
    "scrolled": true
   },
   "outputs": [
    {
     "data": {
      "text/html": [
       "<div>\n",
       "<style scoped>\n",
       "    .dataframe tbody tr th:only-of-type {\n",
       "        vertical-align: middle;\n",
       "    }\n",
       "\n",
       "    .dataframe tbody tr th {\n",
       "        vertical-align: top;\n",
       "    }\n",
       "\n",
       "    .dataframe thead th {\n",
       "        text-align: right;\n",
       "    }\n",
       "</style>\n",
       "<table border=\"1\" class=\"dataframe\">\n",
       "  <thead>\n",
       "    <tr style=\"text-align: right;\">\n",
       "      <th></th>\n",
       "      <th>id</th>\n",
       "      <th>Age</th>\n",
       "      <th>Region_Code</th>\n",
       "      <th>Annual_Premium</th>\n",
       "      <th>Policy_Sales_Channel</th>\n",
       "      <th>Vintage</th>\n",
       "      <th>Vehicle_Age_1-2 Year</th>\n",
       "      <th>Vehicle_Age_&lt; 1 Year</th>\n",
       "      <th>Vehicle_Age_&gt; 2 Years</th>\n",
       "    </tr>\n",
       "  </thead>\n",
       "  <tbody>\n",
       "    <tr>\n",
       "      <th>count</th>\n",
       "      <td>3.821540e+05</td>\n",
       "      <td>3.821540e+05</td>\n",
       "      <td>3.821540e+05</td>\n",
       "      <td>3.821540e+05</td>\n",
       "      <td>3.821540e+05</td>\n",
       "      <td>3.821540e+05</td>\n",
       "      <td>382154.000000</td>\n",
       "      <td>382154.000000</td>\n",
       "      <td>382154.000000</td>\n",
       "    </tr>\n",
       "    <tr>\n",
       "      <th>mean</th>\n",
       "      <td>2.786989e-17</td>\n",
       "      <td>4.698793e-16</td>\n",
       "      <td>-4.686667e-15</td>\n",
       "      <td>-1.131573e-15</td>\n",
       "      <td>-5.982504e-16</td>\n",
       "      <td>1.297682e-16</td>\n",
       "      <td>0.523810</td>\n",
       "      <td>0.435304</td>\n",
       "      <td>0.040887</td>\n",
       "    </tr>\n",
       "    <tr>\n",
       "      <th>std</th>\n",
       "      <td>1.000000e+00</td>\n",
       "      <td>1.000000e+00</td>\n",
       "      <td>1.000000e+00</td>\n",
       "      <td>1.000000e+00</td>\n",
       "      <td>1.000000e+00</td>\n",
       "      <td>1.000000e+00</td>\n",
       "      <td>0.499433</td>\n",
       "      <td>0.495797</td>\n",
       "      <td>0.198028</td>\n",
       "    </tr>\n",
       "    <tr>\n",
       "      <th>min</th>\n",
       "      <td>-1.679898e+00</td>\n",
       "      <td>-1.217956e+00</td>\n",
       "      <td>-2.003367e+00</td>\n",
       "      <td>-1.645876e+00</td>\n",
       "      <td>-2.043598e+00</td>\n",
       "      <td>-1.721971e+00</td>\n",
       "      <td>0.000000</td>\n",
       "      <td>0.000000</td>\n",
       "      <td>0.000000</td>\n",
       "    </tr>\n",
       "    <tr>\n",
       "      <th>25%</th>\n",
       "      <td>-8.556501e-01</td>\n",
       "      <td>-8.895897e-01</td>\n",
       "      <td>-8.653865e-01</td>\n",
       "      <td>-3.613537e-01</td>\n",
       "      <td>-1.583079e+00</td>\n",
       "      <td>-8.740591e-01</td>\n",
       "      <td>0.000000</td>\n",
       "      <td>0.000000</td>\n",
       "      <td>0.000000</td>\n",
       "    </tr>\n",
       "    <tr>\n",
       "      <th>50%</th>\n",
       "      <td>-2.817691e-02</td>\n",
       "      <td>-1.671838e-01</td>\n",
       "      <td>1.208636e-01</td>\n",
       "      <td>5.748165e-02</td>\n",
       "      <td>6.089945e-01</td>\n",
       "      <td>-2.262240e-03</td>\n",
       "      <td>1.000000</td>\n",
       "      <td>0.000000</td>\n",
       "      <td>0.000000</td>\n",
       "    </tr>\n",
       "    <tr>\n",
       "      <th>75%</th>\n",
       "      <td>7.958417e-01</td>\n",
       "      <td>6.865686e-01</td>\n",
       "      <td>6.519214e-01</td>\n",
       "      <td>5.120552e-01</td>\n",
       "      <td>7.379400e-01</td>\n",
       "      <td>8.695346e-01</td>\n",
       "      <td>1.000000</td>\n",
       "      <td>1.000000</td>\n",
       "      <td>0.000000</td>\n",
       "    </tr>\n",
       "    <tr>\n",
       "      <th>max</th>\n",
       "      <td>1.961994e+00</td>\n",
       "      <td>3.050806e+00</td>\n",
       "      <td>1.941633e+00</td>\n",
       "      <td>2.985968e+01</td>\n",
       "      <td>9.405686e-01</td>\n",
       "      <td>1.729389e+00</td>\n",
       "      <td>1.000000</td>\n",
       "      <td>1.000000</td>\n",
       "      <td>1.000000</td>\n",
       "    </tr>\n",
       "  </tbody>\n",
       "</table>\n",
       "</div>"
      ],
      "text/plain": [
       "                 id           Age   Region_Code  Annual_Premium  \\\n",
       "count  3.821540e+05  3.821540e+05  3.821540e+05    3.821540e+05   \n",
       "mean   2.786989e-17  4.698793e-16 -4.686667e-15   -1.131573e-15   \n",
       "std    1.000000e+00  1.000000e+00  1.000000e+00    1.000000e+00   \n",
       "min   -1.679898e+00 -1.217956e+00 -2.003367e+00   -1.645876e+00   \n",
       "25%   -8.556501e-01 -8.895897e-01 -8.653865e-01   -3.613537e-01   \n",
       "50%   -2.817691e-02 -1.671838e-01  1.208636e-01    5.748165e-02   \n",
       "75%    7.958417e-01  6.865686e-01  6.519214e-01    5.120552e-01   \n",
       "max    1.961994e+00  3.050806e+00  1.941633e+00    2.985968e+01   \n",
       "\n",
       "       Policy_Sales_Channel       Vintage  Vehicle_Age_1-2 Year  \\\n",
       "count          3.821540e+05  3.821540e+05         382154.000000   \n",
       "mean          -5.982504e-16  1.297682e-16              0.523810   \n",
       "std            1.000000e+00  1.000000e+00              0.499433   \n",
       "min           -2.043598e+00 -1.721971e+00              0.000000   \n",
       "25%           -1.583079e+00 -8.740591e-01              0.000000   \n",
       "50%            6.089945e-01 -2.262240e-03              1.000000   \n",
       "75%            7.379400e-01  8.695346e-01              1.000000   \n",
       "max            9.405686e-01  1.729389e+00              1.000000   \n",
       "\n",
       "       Vehicle_Age_< 1 Year  Vehicle_Age_> 2 Years  \n",
       "count         382154.000000          382154.000000  \n",
       "mean               0.435304               0.040887  \n",
       "std                0.495797               0.198028  \n",
       "min                0.000000               0.000000  \n",
       "25%                0.000000               0.000000  \n",
       "50%                0.000000               0.000000  \n",
       "75%                1.000000               0.000000  \n",
       "max                1.000000               1.000000  "
      ]
     },
     "execution_count": 82,
     "metadata": {},
     "output_type": "execute_result"
    }
   ],
   "source": [
    "data.describe()"
   ]
  },
  {
   "cell_type": "code",
   "execution_count": 83,
   "id": "e94144c6",
   "metadata": {
    "scrolled": true
   },
   "outputs": [
    {
     "data": {
      "text/html": [
       "<div>\n",
       "<style scoped>\n",
       "    .dataframe tbody tr th:only-of-type {\n",
       "        vertical-align: middle;\n",
       "    }\n",
       "\n",
       "    .dataframe tbody tr th {\n",
       "        vertical-align: top;\n",
       "    }\n",
       "\n",
       "    .dataframe thead th {\n",
       "        text-align: right;\n",
       "    }\n",
       "</style>\n",
       "<table border=\"1\" class=\"dataframe\">\n",
       "  <thead>\n",
       "    <tr style=\"text-align: right;\">\n",
       "      <th></th>\n",
       "      <th>id</th>\n",
       "      <th>Age</th>\n",
       "      <th>Region_Code</th>\n",
       "      <th>Annual_Premium</th>\n",
       "      <th>Policy_Sales_Channel</th>\n",
       "      <th>Vintage</th>\n",
       "      <th>Vehicle_Age_1-2 Year</th>\n",
       "      <th>Vehicle_Age_&lt; 1 Year</th>\n",
       "      <th>Vehicle_Age_&gt; 2 Years</th>\n",
       "      <th>Gender</th>\n",
       "      <th>Driving_License</th>\n",
       "      <th>Previously_Insured</th>\n",
       "      <th>Vehicle_Damage</th>\n",
       "      <th>Response</th>\n",
       "    </tr>\n",
       "  </thead>\n",
       "  <tbody>\n",
       "    <tr>\n",
       "      <th>0</th>\n",
       "      <td>-0.478371</td>\n",
       "      <td>-1.086610</td>\n",
       "      <td>-1.472310</td>\n",
       "      <td>-1.645876</td>\n",
       "      <td>0.737940</td>\n",
       "      <td>-1.650317</td>\n",
       "      <td>0</td>\n",
       "      <td>1</td>\n",
       "      <td>0</td>\n",
       "      <td>0</td>\n",
       "      <td>1</td>\n",
       "      <td>1</td>\n",
       "      <td>0</td>\n",
       "      <td>0</td>\n",
       "    </tr>\n",
       "    <tr>\n",
       "      <th>1</th>\n",
       "      <td>-1.556897</td>\n",
       "      <td>0.226856</td>\n",
       "      <td>0.120864</td>\n",
       "      <td>0.739423</td>\n",
       "      <td>-1.583079</td>\n",
       "      <td>-0.229168</td>\n",
       "      <td>1</td>\n",
       "      <td>0</td>\n",
       "      <td>0</td>\n",
       "      <td>0</td>\n",
       "      <td>1</td>\n",
       "      <td>0</td>\n",
       "      <td>1</td>\n",
       "      <td>0</td>\n",
       "    </tr>\n",
       "    <tr>\n",
       "      <th>2</th>\n",
       "      <td>-1.450395</td>\n",
       "      <td>1.803014</td>\n",
       "      <td>0.500191</td>\n",
       "      <td>0.300659</td>\n",
       "      <td>0.222158</td>\n",
       "      <td>1.180038</td>\n",
       "      <td>1</td>\n",
       "      <td>0</td>\n",
       "      <td>0</td>\n",
       "      <td>1</td>\n",
       "      <td>1</td>\n",
       "      <td>0</td>\n",
       "      <td>1</td>\n",
       "      <td>0</td>\n",
       "    </tr>\n",
       "    <tr>\n",
       "      <th>3</th>\n",
       "      <td>-1.053168</td>\n",
       "      <td>-1.086610</td>\n",
       "      <td>0.500191</td>\n",
       "      <td>-0.179718</td>\n",
       "      <td>0.737940</td>\n",
       "      <td>-1.017368</td>\n",
       "      <td>0</td>\n",
       "      <td>1</td>\n",
       "      <td>0</td>\n",
       "      <td>1</td>\n",
       "      <td>1</td>\n",
       "      <td>0</td>\n",
       "      <td>0</td>\n",
       "      <td>0</td>\n",
       "    </tr>\n",
       "    <tr>\n",
       "      <th>4</th>\n",
       "      <td>1.917472</td>\n",
       "      <td>-0.692570</td>\n",
       "      <td>1.486441</td>\n",
       "      <td>-0.098952</td>\n",
       "      <td>0.737940</td>\n",
       "      <td>0.678456</td>\n",
       "      <td>0</td>\n",
       "      <td>1</td>\n",
       "      <td>0</td>\n",
       "      <td>0</td>\n",
       "      <td>1</td>\n",
       "      <td>1</td>\n",
       "      <td>0</td>\n",
       "      <td>0</td>\n",
       "    </tr>\n",
       "    <tr>\n",
       "      <th>...</th>\n",
       "      <td>...</td>\n",
       "      <td>...</td>\n",
       "      <td>...</td>\n",
       "      <td>...</td>\n",
       "      <td>...</td>\n",
       "      <td>...</td>\n",
       "      <td>...</td>\n",
       "      <td>...</td>\n",
       "      <td>...</td>\n",
       "      <td>...</td>\n",
       "      <td>...</td>\n",
       "      <td>...</td>\n",
       "      <td>...</td>\n",
       "      <td>...</td>\n",
       "    </tr>\n",
       "    <tr>\n",
       "      <th>382149</th>\n",
       "      <td>-0.500575</td>\n",
       "      <td>-0.955263</td>\n",
       "      <td>-0.865386</td>\n",
       "      <td>-0.396989</td>\n",
       "      <td>0.737940</td>\n",
       "      <td>-0.587441</td>\n",
       "      <td>0</td>\n",
       "      <td>1</td>\n",
       "      <td>0</td>\n",
       "      <td>0</td>\n",
       "      <td>1</td>\n",
       "      <td>0</td>\n",
       "      <td>1</td>\n",
       "      <td>0</td>\n",
       "    </tr>\n",
       "    <tr>\n",
       "      <th>382150</th>\n",
       "      <td>0.090814</td>\n",
       "      <td>-0.758243</td>\n",
       "      <td>0.120864</td>\n",
       "      <td>17.916480</td>\n",
       "      <td>0.737940</td>\n",
       "      <td>-0.121686</td>\n",
       "      <td>0</td>\n",
       "      <td>1</td>\n",
       "      <td>0</td>\n",
       "      <td>0</td>\n",
       "      <td>1</td>\n",
       "      <td>1</td>\n",
       "      <td>0</td>\n",
       "      <td>0</td>\n",
       "    </tr>\n",
       "    <tr>\n",
       "      <th>382151</th>\n",
       "      <td>-0.495243</td>\n",
       "      <td>0.423876</td>\n",
       "      <td>0.120864</td>\n",
       "      <td>0.570388</td>\n",
       "      <td>-1.583079</td>\n",
       "      <td>0.391838</td>\n",
       "      <td>1</td>\n",
       "      <td>0</td>\n",
       "      <td>0</td>\n",
       "      <td>0</td>\n",
       "      <td>1</td>\n",
       "      <td>0</td>\n",
       "      <td>1</td>\n",
       "      <td>0</td>\n",
       "    </tr>\n",
       "    <tr>\n",
       "      <th>382152</th>\n",
       "      <td>1.066801</td>\n",
       "      <td>-0.692570</td>\n",
       "      <td>0.120864</td>\n",
       "      <td>-0.312472</td>\n",
       "      <td>0.737940</td>\n",
       "      <td>0.642629</td>\n",
       "      <td>0</td>\n",
       "      <td>1</td>\n",
       "      <td>0</td>\n",
       "      <td>1</td>\n",
       "      <td>1</td>\n",
       "      <td>1</td>\n",
       "      <td>0</td>\n",
       "      <td>0</td>\n",
       "    </tr>\n",
       "    <tr>\n",
       "      <th>382153</th>\n",
       "      <td>1.194217</td>\n",
       "      <td>-0.626897</td>\n",
       "      <td>-0.637790</td>\n",
       "      <td>-0.018478</td>\n",
       "      <td>0.737940</td>\n",
       "      <td>-0.599383</td>\n",
       "      <td>0</td>\n",
       "      <td>1</td>\n",
       "      <td>0</td>\n",
       "      <td>1</td>\n",
       "      <td>1</td>\n",
       "      <td>1</td>\n",
       "      <td>0</td>\n",
       "      <td>0</td>\n",
       "    </tr>\n",
       "  </tbody>\n",
       "</table>\n",
       "<p>382154 rows × 14 columns</p>\n",
       "</div>"
      ],
      "text/plain": [
       "              id       Age  Region_Code  Annual_Premium  Policy_Sales_Channel  \\\n",
       "0      -0.478371 -1.086610    -1.472310       -1.645876              0.737940   \n",
       "1      -1.556897  0.226856     0.120864        0.739423             -1.583079   \n",
       "2      -1.450395  1.803014     0.500191        0.300659              0.222158   \n",
       "3      -1.053168 -1.086610     0.500191       -0.179718              0.737940   \n",
       "4       1.917472 -0.692570     1.486441       -0.098952              0.737940   \n",
       "...          ...       ...          ...             ...                   ...   \n",
       "382149 -0.500575 -0.955263    -0.865386       -0.396989              0.737940   \n",
       "382150  0.090814 -0.758243     0.120864       17.916480              0.737940   \n",
       "382151 -0.495243  0.423876     0.120864        0.570388             -1.583079   \n",
       "382152  1.066801 -0.692570     0.120864       -0.312472              0.737940   \n",
       "382153  1.194217 -0.626897    -0.637790       -0.018478              0.737940   \n",
       "\n",
       "         Vintage  Vehicle_Age_1-2 Year  Vehicle_Age_< 1 Year  \\\n",
       "0      -1.650317                     0                     1   \n",
       "1      -0.229168                     1                     0   \n",
       "2       1.180038                     1                     0   \n",
       "3      -1.017368                     0                     1   \n",
       "4       0.678456                     0                     1   \n",
       "...          ...                   ...                   ...   \n",
       "382149 -0.587441                     0                     1   \n",
       "382150 -0.121686                     0                     1   \n",
       "382151  0.391838                     1                     0   \n",
       "382152  0.642629                     0                     1   \n",
       "382153 -0.599383                     0                     1   \n",
       "\n",
       "        Vehicle_Age_> 2 Years Gender Driving_License Previously_Insured  \\\n",
       "0                           0      0               1                  1   \n",
       "1                           0      0               1                  0   \n",
       "2                           0      1               1                  0   \n",
       "3                           0      1               1                  0   \n",
       "4                           0      0               1                  1   \n",
       "...                       ...    ...             ...                ...   \n",
       "382149                      0      0               1                  0   \n",
       "382150                      0      0               1                  1   \n",
       "382151                      0      0               1                  0   \n",
       "382152                      0      1               1                  1   \n",
       "382153                      0      1               1                  1   \n",
       "\n",
       "       Vehicle_Damage Response  \n",
       "0                   0        0  \n",
       "1                   1        0  \n",
       "2                   1        0  \n",
       "3                   0        0  \n",
       "4                   0        0  \n",
       "...               ...      ...  \n",
       "382149              1        0  \n",
       "382150              0        0  \n",
       "382151              1        0  \n",
       "382152              0        0  \n",
       "382153              0        0  \n",
       "\n",
       "[382154 rows x 14 columns]"
      ]
     },
     "execution_count": 83,
     "metadata": {},
     "output_type": "execute_result"
    }
   ],
   "source": [
    "data"
   ]
  },
  {
   "cell_type": "code",
   "execution_count": 84,
   "id": "1f6f7c46",
   "metadata": {
    "scrolled": true
   },
   "outputs": [
    {
     "name": "stdout",
     "output_type": "stream",
     "text": [
      "id\n",
      "Age\n",
      "Region_Code\n",
      "Annual_Premium\n",
      "Policy_Sales_Channel\n",
      "Vintage\n",
      "Vehicle_Age_1-2 Year\n",
      "Vehicle_Age_< 1 Year\n",
      "Vehicle_Age_> 2 Years\n",
      "Gender\n",
      "Driving_License\n",
      "Previously_Insured\n",
      "Vehicle_Damage\n",
      "Response\n"
     ]
    }
   ],
   "source": [
    "for column in data.columns:\n",
    "    print(column)"
   ]
  },
  {
   "cell_type": "code",
   "execution_count": 85,
   "id": "d12fd3a5",
   "metadata": {
    "scrolled": true
   },
   "outputs": [],
   "source": [
    "X = data.drop('Response', axis = 1)\n",
    "y = data['Response']\n",
    "feature_names = X.columns"
   ]
  },
  {
   "cell_type": "code",
   "execution_count": 86,
   "id": "191e6746",
   "metadata": {
    "scrolled": true
   },
   "outputs": [
    {
     "data": {
      "text/plain": [
       "pandas.core.indexes.base.Index"
      ]
     },
     "execution_count": 86,
     "metadata": {},
     "output_type": "execute_result"
    }
   ],
   "source": [
    "type(feature_names)"
   ]
  },
  {
   "cell_type": "code",
   "execution_count": 87,
   "id": "1f62192f",
   "metadata": {
    "scrolled": true
   },
   "outputs": [
    {
     "data": {
      "text/plain": [
       "Index(['id', 'Age', 'Region_Code', 'Annual_Premium', 'Policy_Sales_Channel',\n",
       "       'Vintage', 'Vehicle_Age_1-2 Year', 'Vehicle_Age_< 1 Year',\n",
       "       'Vehicle_Age_> 2 Years', 'Gender', 'Driving_License',\n",
       "       'Previously_Insured', 'Vehicle_Damage'],\n",
       "      dtype='object')"
      ]
     },
     "execution_count": 87,
     "metadata": {},
     "output_type": "execute_result"
    }
   ],
   "source": [
    "feature_names"
   ]
  },
  {
   "cell_type": "code",
   "execution_count": 88,
   "id": "8b4cef5d",
   "metadata": {
    "scrolled": true
   },
   "outputs": [
    {
     "data": {
      "text/plain": [
       "(286615, 95539)"
      ]
     },
     "execution_count": 88,
     "metadata": {},
     "output_type": "execute_result"
    }
   ],
   "source": [
    "from sklearn.model_selection import train_test_split\n",
    "X_train, X_test, y_train, y_test = train_test_split(X, y, test_size = 0.25, random_state = 42)\n",
    "\n",
    "N_train, _ = X_train.shape \n",
    "N_test,  _ = X_test.shape \n",
    "\n",
    "N_train, N_test"
   ]
  },
  {
   "cell_type": "markdown",
   "id": "a400b880",
   "metadata": {},
   "source": [
    "## Импортируем необходимые модули для алгоритмов обучения"
   ]
  },
  {
   "cell_type": "code",
   "execution_count": 89,
   "id": "f24b5571",
   "metadata": {
    "scrolled": true
   },
   "outputs": [],
   "source": [
    "from sklearn.neighbors import KNeighborsClassifier\n",
    "from sklearn.metrics import confusion_matrix\n",
    "from sklearn.model_selection import GridSearchCV\n",
    "from sklearn.svm import SVC\n",
    "from sklearn import ensemble"
   ]
  },
  {
   "cell_type": "markdown",
   "id": "4b6832ce",
   "metadata": {},
   "source": [
    "# kNN - метод k ближайших соседей"
   ]
  },
  {
   "cell_type": "code",
   "execution_count": 274,
   "id": "deeed005",
   "metadata": {
    "scrolled": true
   },
   "outputs": [
    {
     "name": "stdout",
     "output_type": "stream",
     "text": [
      "KNeighborsClassifier(n_neighbors=1)\n",
      "[[72729  7065]\n",
      " [ 7136  8609]]\n",
      "Ошибка на обучающей выборке:  0.0\n",
      "Ошибка на тестовой выборке:  0.14864086917384522\n"
     ]
    }
   ],
   "source": [
    "knn = KNeighborsClassifier(n_neighbors = 1)\n",
    "knn.fit(X_train, y_train)\n",
    "print(knn)\n",
    "y_test_predict = knn.predict(X_test)\n",
    "\n",
    "err_test  = np.mean(y_test  != y_test_predict)\n",
    "err_train = np.mean(y_train != knn.predict(X_train))\n",
    "\n",
    "print(confusion_matrix(y_test, y_test_predict))\n",
    "print('Ошибка на обучающей выборке: ', err_train)\n",
    "print('Ошибка на тестовой выборке: ', err_test)"
   ]
  },
  {
   "cell_type": "code",
   "execution_count": 275,
   "id": "bab62748",
   "metadata": {
    "scrolled": true
   },
   "outputs": [
    {
     "name": "stdout",
     "output_type": "stream",
     "text": [
      "<class 'pandas.core.frame.DataFrame'>\n",
      "RangeIndex: 382154 entries, 0 to 382153\n",
      "Data columns (total 14 columns):\n",
      " #   Column                 Non-Null Count   Dtype   \n",
      "---  ------                 --------------   -----   \n",
      " 0   id                     382154 non-null  float64 \n",
      " 1   Age                    382154 non-null  float64 \n",
      " 2   Region_Code            382154 non-null  float64 \n",
      " 3   Annual_Premium         382154 non-null  float64 \n",
      " 4   Policy_Sales_Channel   382154 non-null  float64 \n",
      " 5   Vintage                382154 non-null  float64 \n",
      " 6   Vehicle_Age_1-2 Year   382154 non-null  uint8   \n",
      " 7   Vehicle_Age_< 1 Year   382154 non-null  uint8   \n",
      " 8   Vehicle_Age_> 2 Years  382154 non-null  uint8   \n",
      " 9   Gender                 382154 non-null  category\n",
      " 10  Driving_License        382154 non-null  category\n",
      " 11  Previously_Insured     382154 non-null  category\n",
      " 12  Vehicle_Damage         382154 non-null  category\n",
      " 13  Response               382154 non-null  category\n",
      "dtypes: category(5), float64(6), uint8(3)\n",
      "memory usage: 20.4 MB\n"
     ]
    }
   ],
   "source": [
    "data.info()"
   ]
  },
  {
   "cell_type": "code",
   "execution_count": 276,
   "id": "af0d96bb",
   "metadata": {
    "scrolled": true
   },
   "outputs": [
    {
     "name": "stdout",
     "output_type": "stream",
     "text": [
      "KNeighborsClassifier(n_neighbors=2)\n",
      "[[77791  2003]\n",
      " [ 9400  6345]]\n",
      "Ошибка на обучающей выборке:  0.07397379760305636\n",
      "Ошибка на тестовой выборке:  0.11935439977391432\n"
     ]
    }
   ],
   "source": [
    "knn = KNeighborsClassifier(n_neighbors = 2)\n",
    "knn.fit(X_train, y_train)\n",
    "print(knn)\n",
    "y_test_predict = knn.predict(X_test)\n",
    "\n",
    "err_test  = np.mean(y_test  != y_test_predict)\n",
    "err_train = np.mean(y_train != knn.predict(X_train))\n",
    "\n",
    "print(confusion_matrix(y_test, y_test_predict))\n",
    "print('Ошибка на обучающей выборке: ', err_train)\n",
    "print('Ошибка на тестовой выборке: ', err_test)"
   ]
  },
  {
   "cell_type": "code",
   "execution_count": 277,
   "id": "b9215198",
   "metadata": {
    "scrolled": true
   },
   "outputs": [
    {
     "name": "stdout",
     "output_type": "stream",
     "text": [
      "KNeighborsClassifier(n_neighbors=3)\n",
      "[[75011  4783]\n",
      " [ 7801  7944]]\n",
      "Ошибка на обучающей выборке:  0.0732550634125918\n",
      "Ошибка на тестовой выборке:  0.13171584379154064\n"
     ]
    }
   ],
   "source": [
    "knn = KNeighborsClassifier(n_neighbors = 3)\n",
    "knn.fit(X_train, y_train)\n",
    "print(knn)\n",
    "y_test_predict = knn.predict(X_test)\n",
    "\n",
    "err_test  = np.mean(y_test  != y_test_predict)\n",
    "err_train = np.mean(y_train != knn.predict(X_train))\n",
    "\n",
    "print(confusion_matrix(y_test, y_test_predict))\n",
    "print('Ошибка на обучающей выборке: ', err_train)\n",
    "print('Ошибка на тестовой выборке: ', err_test)"
   ]
  },
  {
   "cell_type": "code",
   "execution_count": 278,
   "id": "47a90516",
   "metadata": {
    "scrolled": true
   },
   "outputs": [
    {
     "name": "stdout",
     "output_type": "stream",
     "text": [
      "KNeighborsClassifier()\n",
      "[[76112  3682]\n",
      " [ 8159  7586]]\n",
      "Ошибка на обучающей выборке:  0.08734364914606703\n",
      "Ошибка на тестовой выборке:  0.12393891499806362\n"
     ]
    }
   ],
   "source": [
    "knn = KNeighborsClassifier(n_neighbors = 5)\n",
    "knn.fit(X_train, y_train)\n",
    "print(knn)\n",
    "y_test_predict = knn.predict(X_test)\n",
    "\n",
    "err_test  = np.mean(y_test  != y_test_predict)\n",
    "err_train = np.mean(y_train != knn.predict(X_train))\n",
    "\n",
    "print(confusion_matrix(y_test, y_test_predict))\n",
    "print('Ошибка на обучающей выборке: ', err_train)\n",
    "print('Ошибка на тестовой выборке: ', err_test)"
   ]
  },
  {
   "cell_type": "code",
   "execution_count": 279,
   "id": "0b8eb308",
   "metadata": {
    "scrolled": true
   },
   "outputs": [
    {
     "name": "stdout",
     "output_type": "stream",
     "text": [
      "KNeighborsClassifier(n_neighbors=8)\n",
      "Ошибка на обучающей выборке:  0.09597892643441551\n",
      "Ошибка на тестовой выборке:  0.11243575921874836\n"
     ]
    },
    {
     "data": {
      "text/plain": [
       "<sklearn.metrics._plot.confusion_matrix.ConfusionMatrixDisplay at 0x1a61e4f7400>"
      ]
     },
     "execution_count": 279,
     "metadata": {},
     "output_type": "execute_result"
    },
    {
     "data": {
      "image/png": "[encoded data removed]",
      "text/plain": [
       "<Figure size 432x288 with 2 Axes>"
      ]
     },
     "metadata": {
      "needs_background": "light"
     },
     "output_type": "display_data"
    }
   ],
   "source": [
    "knn = KNeighborsClassifier(n_neighbors = 8)\n",
    "knn.fit(X_train, y_train)\n",
    "print(knn)\n",
    "y_test_predict = knn.predict(X_test)\n",
    "\n",
    "err_test  = np.mean(y_test  != y_test_predict)\n",
    "err_train = np.mean(y_train != knn.predict(X_train))\n",
    "\n",
    "\n",
    "print('Ошибка на обучающей выборке: ', err_train)\n",
    "print('Ошибка на тестовой выборке: ', err_test)\n",
    "plot_confusion_matrix(knn, X_test, y_test)"
   ]
  },
  {
   "cell_type": "code",
   "execution_count": 280,
   "id": "6c2e7934",
   "metadata": {
    "scrolled": true
   },
   "outputs": [
    {
     "name": "stdout",
     "output_type": "stream",
     "text": [
      "KNeighborsClassifier(n_neighbors=12)\n",
      "Ошибка на обучающей выборке:  0.0996668004117021\n",
      "Ошибка на тестовой выборке:  0.11104365756392677\n"
     ]
    },
    {
     "data": {
      "text/plain": [
       "<sklearn.metrics._plot.confusion_matrix.ConfusionMatrixDisplay at 0x1a6214965b0>"
      ]
     },
     "execution_count": 280,
     "metadata": {},
     "output_type": "execute_result"
    },
    {
     "data": {
      "image/png": "[encoded data removed]",
      "text/plain": [
       "<Figure size 432x288 with 2 Axes>"
      ]
     },
     "metadata": {
      "needs_background": "light"
     },
     "output_type": "display_data"
    }
   ],
   "source": [
    "knn = KNeighborsClassifier(n_neighbors = 12)\n",
    "knn.fit(X_train, y_train)\n",
    "print(knn)\n",
    "y_test_predict = knn.predict(X_test)\n",
    "\n",
    "err_test  = np.mean(y_test  != y_test_predict)\n",
    "err_train = np.mean(y_train != knn.predict(X_train))\n",
    "\n",
    "\n",
    "print('Ошибка на обучающей выборке: ', err_train)\n",
    "print('Ошибка на тестовой выборке: ', err_test)\n",
    "plot_confusion_matrix(knn, X_test, y_test)"
   ]
  },
  {
   "cell_type": "code",
   "execution_count": 281,
   "id": "281a6d96",
   "metadata": {
    "scrolled": true
   },
   "outputs": [
    {
     "name": "stdout",
     "output_type": "stream",
     "text": [
      "KNeighborsClassifier(n_neighbors=21)\n",
      "Ошибка на обучающей выборке:  0.10335118538806413\n",
      "Ошибка на тестовой выборке:  0.11046797642847424\n"
     ]
    },
    {
     "data": {
      "text/plain": [
       "<sklearn.metrics._plot.confusion_matrix.ConfusionMatrixDisplay at 0x1a631413040>"
      ]
     },
     "execution_count": 281,
     "metadata": {},
     "output_type": "execute_result"
    },
    {
     "data": {
      "image/png": "[encoded data removed]",
      "text/plain": [
       "<Figure size 432x288 with 2 Axes>"
      ]
     },
     "metadata": {
      "needs_background": "light"
     },
     "output_type": "display_data"
    }
   ],
   "source": [
    "knn = KNeighborsClassifier(n_neighbors = 21)\n",
    "knn.fit(X_train, y_train)\n",
    "print(knn)\n",
    "y_test_predict = knn.predict(X_test)\n",
    "\n",
    "err_test  = np.mean(y_test  != y_test_predict)\n",
    "err_train = np.mean(y_train != knn.predict(X_train))\n",
    "\n",
    "\n",
    "print('Ошибка на обучающей выборке: ', err_train)\n",
    "print('Ошибка на тестовой выборке: ', err_test)\n",
    "plot_confusion_matrix(knn, X_test, y_test)"
   ]
  },
  {
   "cell_type": "code",
   "execution_count": 282,
   "id": "260c8f48",
   "metadata": {
    "scrolled": true
   },
   "outputs": [
    {
     "name": "stdout",
     "output_type": "stream",
     "text": [
      "KNeighborsClassifier(n_neighbors=34)\n",
      "Ошибка на обучающей выборке:  0.10486192278840954\n",
      "Ошибка на тестовой выборке:  0.10811291723798658\n"
     ]
    },
    {
     "data": {
      "text/plain": [
       "<sklearn.metrics._plot.confusion_matrix.ConfusionMatrixDisplay at 0x1a6243fd2e0>"
      ]
     },
     "execution_count": 282,
     "metadata": {},
     "output_type": "execute_result"
    },
    {
     "data": {
      "image/png": "[encoded data removed]",
      "text/plain": [
       "<Figure size 432x288 with 2 Axes>"
      ]
     },
     "metadata": {
      "needs_background": "light"
     },
     "output_type": "display_data"
    }
   ],
   "source": [
    "knn = KNeighborsClassifier(n_neighbors = 34)\n",
    "knn.fit(X_train, y_train)\n",
    "print(knn)\n",
    "y_test_predict = knn.predict(X_test)\n",
    "\n",
    "err_test  = np.mean(y_test  != y_test_predict)\n",
    "err_train = np.mean(y_train != knn.predict(X_train))\n",
    "\n",
    "\n",
    "print('Ошибка на обучающей выборке: ', err_train)\n",
    "print('Ошибка на тестовой выборке: ', err_test)\n",
    "plot_confusion_matrix(knn, X_test, y_test)"
   ]
  },
  {
   "cell_type": "code",
   "execution_count": 283,
   "id": "369524fe",
   "metadata": {
    "scrolled": true,
    "slideshow": {
     "slide_type": "slide"
    }
   },
   "outputs": [
    {
     "name": "stdout",
     "output_type": "stream",
     "text": [
      "Кросс-валидационная ошибка:  0.10849048374997816\n",
      "Оптимальное количество соседей:  34\n",
      "Wall time: 1h 57min 14s\n"
     ]
    }
   ],
   "source": [
    "%%time\n",
    "knn = KNeighborsClassifier()\n",
    "grid = GridSearchCV(KNeighborsClassifier(), param_grid = {'n_neighbors': range(1, 35)}, cv = 5)\n",
    "grid.fit(X_train, y_train)\n",
    "\n",
    "best_cv_err = 1 - grid.best_score_\n",
    "best_n_neighbors = grid.best_estimator_.n_neighbors\n",
    "\n",
    "print('Кросс-валидационная ошибка: ', best_cv_err)\n",
    "print('Оптимальное количество соседей: ', best_n_neighbors)"
   ]
  },
  {
   "cell_type": "markdown",
   "id": "5a0da991",
   "metadata": {
    "collapsed": true,
    "scrolled": true
   },
   "source": [
    "Оптимальное решение на рассмотренном отрезке 34"
   ]
  },
  {
   "cell_type": "markdown",
   "id": "cb926aed",
   "metadata": {},
   "source": [
    "## Support Vector Machine"
   ]
  },
  {
   "cell_type": "code",
   "execution_count": 284,
   "id": "8887384b",
   "metadata": {},
   "outputs": [
    {
     "name": "stdout",
     "output_type": "stream",
     "text": [
      "Ошибка на обучающей выборке:  0.10486541178933412\n",
      "Ошибка на тестовой выборке:  0.1052449784904594\n",
      "Wall time: 4h 11s\n"
     ]
    }
   ],
   "source": [
    "%%time\n",
    "svc = SVC(gamma = 'auto')\n",
    "svc.fit(X_train, y_train)\n",
    "\n",
    "err_train = np.mean(y_train != svc.predict(X_train))\n",
    "err_test  = np.mean(y_test  != svc.predict(X_test))\n",
    "\n",
    "print('Ошибка на обучающей выборке: ', err_train)\n",
    "print('Ошибка на тестовой выборке: ', err_test)"
   ]
  },
  {
   "cell_type": "code",
   "execution_count": 292,
   "id": "5fb49981",
   "metadata": {},
   "outputs": [
    {
     "data": {
      "text/plain": [
       "<sklearn.metrics._plot.confusion_matrix.ConfusionMatrixDisplay at 0x1a623cdf910>"
      ]
     },
     "execution_count": 292,
     "metadata": {},
     "output_type": "execute_result"
    },
    {
     "data": {
      "image/png": "[encoded data removed]",
      "text/plain": [
       "<Figure size 432x288 with 2 Axes>"
      ]
     },
     "metadata": {
      "needs_background": "light"
     },
     "output_type": "display_data"
    }
   ],
   "source": [
    "plot_confusion_matrix(svc, X_test, y_test)"
   ]
  },
  {
   "cell_type": "markdown",
   "id": "ce87054a",
   "metadata": {},
   "source": [
    "## Random Forest"
   ]
  },
  {
   "cell_type": "code",
   "execution_count": 285,
   "id": "8e1013e9",
   "metadata": {},
   "outputs": [
    {
     "name": "stdout",
     "output_type": "stream",
     "text": [
      "Ошибка на обучающей выборке:  1.7445004622926224e-05\n",
      "Ошибка на тестовой выборке:  0.10648007619924847\n"
     ]
    }
   ],
   "source": [
    "%%time\n",
    "rf = ensemble.RandomForestClassifier(n_estimators = 100)\n",
    "rf.fit(X_train, y_train)\n",
    "\n",
    "err_train = np.mean(y_train != rf.predict(X_train))\n",
    "err_test  = np.mean(y_test  != rf.predict(X_test))\n",
    "\n",
    "print('Ошибка на обучающей выборке: ', err_train)\n",
    "print('Ошибка на тестовой выборке: ', err_test)"
   ]
  },
  {
   "cell_type": "code",
   "execution_count": 286,
   "id": "ba3b02db",
   "metadata": {},
   "outputs": [
    {
     "data": {
      "text/plain": [
       "<sklearn.metrics._plot.confusion_matrix.ConfusionMatrixDisplay at 0x1a63141e790>"
      ]
     },
     "execution_count": 286,
     "metadata": {},
     "output_type": "execute_result"
    },
    {
     "data": {
      "image/png": "[encoded data removed]",
      "text/plain": [
       "<Figure size 432x288 with 2 Axes>"
      ]
     },
     "metadata": {
      "needs_background": "light"
     },
     "output_type": "display_data"
    }
   ],
   "source": [
    "plot_confusion_matrix(rf, X_test, y_test)"
   ]
  },
  {
   "cell_type": "markdown",
   "id": "99d35194",
   "metadata": {},
   "source": [
    "## Extremely Randomized Trees"
   ]
  },
  {
   "cell_type": "code",
   "execution_count": 287,
   "id": "8b91a3c8",
   "metadata": {},
   "outputs": [
    {
     "name": "stdout",
     "output_type": "stream",
     "text": [
      "Ошибка на обучающей выборке:  0.0\n",
      "Ошибка на тестовой выборке:  0.10928521336836265\n"
     ]
    }
   ],
   "source": [
    "%%time\n",
    "ert = ensemble.ExtraTreesClassifier(n_estimators = 100).fit(X_train, y_train)\n",
    "\n",
    "err_train = np.mean(y_train != ert.predict(X_train))\n",
    "err_test  = np.mean(y_test  != ert.predict(X_test))\n",
    "\n",
    "print('Ошибка на обучающей выборке: ', err_train)\n",
    "print('Ошибка на тестовой выборке: ', err_test)"
   ]
  },
  {
   "cell_type": "code",
   "execution_count": 288,
   "id": "f6a47e24",
   "metadata": {},
   "outputs": [
    {
     "data": {
      "text/plain": [
       "<sklearn.metrics._plot.confusion_matrix.ConfusionMatrixDisplay at 0x1a61f49cbe0>"
      ]
     },
     "execution_count": 288,
     "metadata": {},
     "output_type": "execute_result"
    },
    {
     "data": {
      "image/png": "[encoded data removed]",
      "text/plain": [
       "<Figure size 432x288 with 2 Axes>"
      ]
     },
     "metadata": {
      "needs_background": "light"
     },
     "output_type": "display_data"
    }
   ],
   "source": [
    "plot_confusion_matrix(ert, X_test, y_test)"
   ]
  },
  {
   "cell_type": "markdown",
   "id": "671f4acd",
   "metadata": {},
   "source": [
    "## AdaBoost"
   ]
  },
  {
   "cell_type": "code",
   "execution_count": 289,
   "id": "e53efd1b",
   "metadata": {},
   "outputs": [
    {
     "name": "stdout",
     "output_type": "stream",
     "text": [
      "Ошибка на обучающей выборке:  0.10163808593409278\n",
      "Ошибка на тестовой выборке:  0.10215723421848669\n"
     ]
    }
   ],
   "source": [
    "%%time\n",
    "ada = ensemble.AdaBoostClassifier(n_estimators = 100)\n",
    "ada.fit(X_train, y_train)\n",
    "\n",
    "err_train = np.mean(y_train != ada.predict(X_train))\n",
    "err_test = np.mean(y_test != ada.predict(X_test))\n",
    "\n",
    "print('Ошибка на обучающей выборке: ', err_train)\n",
    "print('Ошибка на тестовой выборке: ', err_test)"
   ]
  },
  {
   "cell_type": "code",
   "execution_count": 290,
   "id": "152edd00",
   "metadata": {},
   "outputs": [
    {
     "data": {
      "text/plain": [
       "<sklearn.metrics._plot.confusion_matrix.ConfusionMatrixDisplay at 0x1a61f1951c0>"
      ]
     },
     "execution_count": 290,
     "metadata": {},
     "output_type": "execute_result"
    },
    {
     "data": {
      "image/png": "[encoded data removed]",
      "text/plain": [
       "<Figure size 432x288 with 2 Axes>"
      ]
     },
     "metadata": {
      "needs_background": "light"
     },
     "output_type": "display_data"
    }
   ],
   "source": [
    "plot_confusion_matrix(ada, X_test, y_test)"
   ]
  },
  {
   "cell_type": "markdown",
   "id": "e6cd047e",
   "metadata": {},
   "source": [
    "## GBT"
   ]
  },
  {
   "cell_type": "code",
   "execution_count": 91,
   "id": "0c22170d",
   "metadata": {},
   "outputs": [
    {
     "name": "stdout",
     "output_type": "stream",
     "text": [
      "Ошибка на обучающей выборке:  0.1013694328628997\n",
      "Ошибка на тестовой выборке:  0.10182229246695067\n",
      "Wall time: 2min 40s\n"
     ]
    }
   ],
   "source": [
    "%%time\n",
    "gbt = ensemble.GradientBoostingClassifier(n_estimators = 100)\n",
    "gbt.fit(X_train, y_train)\n",
    "\n",
    "err_train = np.mean(y_train != gbt.predict(X_train))\n",
    "err_test = np.mean(y_test != gbt.predict(X_test))\n",
    "\n",
    "print('Ошибка на обучающей выборке: ', err_train)\n",
    "print('Ошибка на тестовой выборке: ', err_test)"
   ]
  },
  {
   "cell_type": "code",
   "execution_count": 97,
   "id": "15fd669a",
   "metadata": {},
   "outputs": [
    {
     "name": "stdout",
     "output_type": "stream",
     "text": [
      "286615 95539\n"
     ]
    },
    {
     "data": {
      "text/plain": [
       "<sklearn.metrics._plot.confusion_matrix.ConfusionMatrixDisplay at 0x1ede29cc160>"
      ]
     },
     "execution_count": 97,
     "metadata": {},
     "output_type": "execute_result"
    },
    {
     "data": {
      "image/png": "[encoded data removed]",
      "text/plain": [
       "<Figure size 432x288 with 2 Axes>"
      ]
     },
     "metadata": {
      "needs_background": "light"
     },
     "output_type": "display_data"
    }
   ],
   "source": [
    "print(N_train, N_test)\n",
    "from sklearn.metrics import plot_confusion_matrix\n",
    "plot_confusion_matrix(gbt, X_test, y_test)"
   ]
  },
  {
   "cell_type": "markdown",
   "id": "6f63aa85",
   "metadata": {},
   "source": [
    "## Борьба с несбалансированностью классов"
   ]
  },
  {
   "cell_type": "code",
   "execution_count": 98,
   "id": "1114279f",
   "metadata": {},
   "outputs": [
    {
     "data": {
      "image/png": "[encoded data removed]",
      "text/plain": [
       "<Figure size 432x288 with 1 Axes>"
      ]
     },
     "metadata": {
      "needs_background": "light"
     },
     "output_type": "display_data"
    }
   ],
   "source": [
    "sns.countplot(x='Response', data=data)\n",
    "pass"
   ]
  },
  {
   "cell_type": "code",
   "execution_count": 99,
   "id": "a65611ed",
   "metadata": {},
   "outputs": [
    {
     "data": {
      "text/plain": [
       "(125202, 14)"
      ]
     },
     "execution_count": 99,
     "metadata": {},
     "output_type": "execute_result"
    }
   ],
   "source": [
    "non_interest_count, interest_count = data['Response'].value_counts()\n",
    "\n",
    "class_0 = data[data['Response'] == 0]\n",
    "class_1 = data[data['Response'] == 1]\n",
    "class_0_balanced = class_0.sample(interest_count)\n",
    "\n",
    "balance_data = pd.concat([class_0_balanced, class_1], ignore_index=True, sort=False)\n",
    "balance_data.shape"
   ]
  },
  {
   "cell_type": "code",
   "execution_count": 100,
   "id": "d8db2633",
   "metadata": {},
   "outputs": [],
   "source": [
    "X = balance_data.drop(['Response'], axis=1)\n",
    "y = balance_data['Response']"
   ]
  },
  {
   "cell_type": "code",
   "execution_count": 101,
   "id": "a3f4a335",
   "metadata": {},
   "outputs": [
    {
     "data": {
      "text/plain": [
       "(93901, 31301)"
      ]
     },
     "execution_count": 101,
     "metadata": {},
     "output_type": "execute_result"
    }
   ],
   "source": [
    "from sklearn.model_selection import train_test_split\n",
    "X_train, X_test, y_train, y_test = train_test_split(X, y, test_size = 0.25, random_state = 42)\n",
    "\n",
    "N_train, _ = X_train.shape \n",
    "N_test,  _ = X_test.shape \n",
    "\n",
    "N_train, N_test"
   ]
  },
  {
   "cell_type": "markdown",
   "id": "0fd5bbaf",
   "metadata": {},
   "source": [
    "# kNN - метод k ближайших соседей"
   ]
  },
  {
   "cell_type": "code",
   "execution_count": 50,
   "id": "375c070f",
   "metadata": {},
   "outputs": [
    {
     "name": "stdout",
     "output_type": "stream",
     "text": [
      "KNeighborsClassifier(n_neighbors=34)\n",
      "Ошибка на обучающей выборке:  0.16803867903430209\n",
      "Ошибка на тестовой выборке:  0.17836490846937797\n"
     ]
    }
   ],
   "source": [
    "knn = KNeighborsClassifier(n_neighbors = 34)\n",
    "knn.fit(X_train, y_train)\n",
    "print(knn)\n",
    "y_test_predict = knn.predict(X_test)\n",
    "\n",
    "err_test  = np.mean(y_test  != y_test_predict)\n",
    "err_train = np.mean(y_train != knn.predict(X_train))\n",
    "\n",
    "\n",
    "print('Ошибка на обучающей выборке: ', err_train)\n",
    "print('Ошибка на тестовой выборке: ', err_test)\n"
   ]
  },
  {
   "cell_type": "code",
   "execution_count": 51,
   "id": "4dae918f",
   "metadata": {},
   "outputs": [
    {
     "name": "stdout",
     "output_type": "stream",
     "text": [
      "[[11552  4137]\n",
      " [ 1446 14166]]\n"
     ]
    }
   ],
   "source": [
    "print(confusion_matrix(y_test, y_test_predict))"
   ]
  },
  {
   "cell_type": "markdown",
   "id": "d727e386",
   "metadata": {},
   "source": [
    "## GBT"
   ]
  },
  {
   "cell_type": "code",
   "execution_count": 102,
   "id": "e32fc038",
   "metadata": {},
   "outputs": [
    {
     "name": "stdout",
     "output_type": "stream",
     "text": [
      "Ошибка на обучающей выборке:  0.1624050862078146\n",
      "Ошибка на тестовой выборке:  0.16747068783744928\n",
      "Wall time: 43.6 s\n"
     ]
    }
   ],
   "source": [
    "%%time\n",
    "gbt = ensemble.GradientBoostingClassifier(n_estimators = 100)\n",
    "gbt.fit(X_train, y_train)\n",
    "\n",
    "err_train = np.mean(y_train != gbt.predict(X_train))\n",
    "err_test = np.mean(y_test != gbt.predict(X_test))\n",
    "\n",
    "print('Ошибка на обучающей выборке: ', err_train)\n",
    "print('Ошибка на тестовой выборке: ', err_test)"
   ]
  },
  {
   "cell_type": "code",
   "execution_count": 103,
   "id": "b2a050db",
   "metadata": {},
   "outputs": [
    {
     "data": {
      "text/plain": [
       "<sklearn.metrics._plot.confusion_matrix.ConfusionMatrixDisplay at 0x1ede04d7550>"
      ]
     },
     "execution_count": 103,
     "metadata": {},
     "output_type": "execute_result"
    },
    {
     "data": {
      "image/png": "[encoded data removed]",
      "text/plain": [
       "<Figure size 432x288 with 2 Axes>"
      ]
     },
     "metadata": {
      "needs_background": "light"
     },
     "output_type": "display_data"
    }
   ],
   "source": [
    "plot_confusion_matrix(gbt, X_test, y_test)"
   ]
  },
  {
   "cell_type": "markdown",
   "id": "5012dab7",
   "metadata": {},
   "source": [
    "В случае сбалансированных данных ошибка увеличилась. Cкорее всего, это связано с существенным уменьшением объема данных после балансировки:\n",
    "- до балансировки N_train, N_test: (286615 95539)\n",
    "- после балансировки N_train, N_test: (93901, 31301)\n",
    "\n",
    "Объем сбалансированных данных существенно уменьшился потому, что изначально разбиение двух классов составляло 84% vs 16%. Следовательно, во время балансировки объем данных первого класса уменьшался, чтобы количество его объектов соответствовало количеству объектов второго класса."
   ]
  },
  {
   "cell_type": "markdown",
   "id": "f457f260",
   "metadata": {},
   "source": [
    "## Выводы"
   ]
  },
  {
   "cell_type": "markdown",
   "id": "be5861d7",
   "metadata": {},
   "source": [
    "***По данным***"
   ]
  },
  {
   "cell_type": "markdown",
   "id": "509e0c6b",
   "metadata": {},
   "source": [
    "Данные являются несбалансированными (84% vs 16%)\n",
    "\n",
    "\n",
    "Большинство клиентов не заинтересованы в страховании транспорта\n",
    "\n",
    "\n",
    "В данных преобладают в основном мужчины имеющие водительские права"
   ]
  },
  {
   "cell_type": "markdown",
   "id": "01a55265",
   "metadata": {},
   "source": [
    "***По результатам работы алгоритмов***"
   ]
  },
  {
   "cell_type": "markdown",
   "id": "77518445",
   "metadata": {},
   "source": [
    "- Алгоритм kNN оптимальное количество соседей составило 34 с ошибкой на обучающей выборке ~ 10,4% и с ошибкой на тестовой выборке ~ 10.8%\n",
    "- Алгоритм Support Vector Machine: ошибка на обучающей выборке ~ 10.5%, ошибка на тестовой выборке ~ 10.5%\n",
    "- Алгоритм Random Forest: ошибка на обучающей выборке ~ 0%, ошибка на тестовой выборке ~ 10.6%\n",
    "- Алгоритм Extremely Randomized Trees: ошибка на обучающей выборке - 0%, ошибка на тестовой выборке ~ 10.9%\n",
    "- Алгоритм AdaBoost: ошибка на обучающей выборке ~ 10,1%, ошибка на тестовой выборке ~ 10.2%\n",
    "- Алгоритм GBT: ошибка на обучающей выборке ~ 10.1%, ошибка на тестовой выборке ~ 10.2%\n",
    "- приведение данных к сбалансированности классов не приводит к уменьшению ошибки классификации вследствие существенного сокращения объема данных после балансировкиСо сбалансированными классами ошибка возросла примерно на 6%\n",
    "\n",
    "\n",
    "- Лучше всего на тестовой выборке себя показали алгоритмы AdaBoost и GBT с ошибкой в 10.2%\n"
   ]
  },
  {
   "cell_type": "code",
   "execution_count": null,
   "id": "384cc871",
   "metadata": {},
   "outputs": [],
   "source": []
  }
 ],
 "metadata": {
  "kernelspec": {
   "display_name": "Python 3",
   "language": "python",
   "name": "python3"
  },
  "language_info": {
   "codemirror_mode": {
    "name": "ipython",
    "version": 3
   },
   "file_extension": ".py",
   "mimetype": "text/x-python",
   "name": "python",
   "nbconvert_exporter": "python",
   "pygments_lexer": "ipython3",
   "version": "3.8.8"
  },
  "widgets": {
   "application/vnd.jupyter.widget-state+json": {
    "state": {},
    "version_major": 2,
    "version_minor": 0
   }
  }
 },
 "nbformat": 4,
 "nbformat_minor": 5
}
